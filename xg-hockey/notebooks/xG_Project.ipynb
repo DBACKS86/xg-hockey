{
 "cells": [
  {
   "cell_type": "markdown",
   "id": "f4047b2d",
   "metadata": {},
   "source": [
    "# Building an Expected Goals (xG) Model for NHL Shots"
   ]
  },
  {
   "cell_type": "markdown",
   "id": "115dd44e",
   "metadata": {},
   "source": [
    "Expected Goals (xG) is a statistic used in hockey analytics that measures the quality of a shot by estimating the probability it results in a goal. \n",
    "This project uses NHL shot data from the 2015–2023 seasons to build an xG model using machine learning."
   ]
  },
  {
   "cell_type": "markdown",
   "id": "07499b73",
   "metadata": {},
   "source": [
    "The main goals of this project are:\n",
    "- Analyze NHL shot data to identify key factors that influence scoring chances.  \n",
    "- Build predictive models (Logistic Regression, XGBoost) to estimate the probability of a shot becoming a goal.  \n",
    "- Compare predictions with actual results to evaluate player performance and shot quality.  \n",
    "- Visualize results to make insights clear and actionable. "
   ]
  },
  {
   "cell_type": "markdown",
   "id": "c9a66c12",
   "metadata": {},
   "source": [
    "## Loading and cleaning data"
   ]
  },
  {
   "cell_type": "markdown",
   "id": "19c211f1",
   "metadata": {},
   "source": [
    "Importing the necessary packages for model building/evaluation"
   ]
  },
  {
   "cell_type": "code",
   "execution_count": 202,
   "id": "619498f1",
   "metadata": {},
   "outputs": [],
   "source": [
    "from sklearn.model_selection import train_test_split\n",
    "from sklearn.preprocessing import StandardScaler, OneHotEncoder\n",
    "from sklearn.compose import ColumnTransformer\n",
    "from sklearn.pipeline import Pipeline\n",
    "from xgboost import XGBClassifier\n",
    "from sklearn.linear_model import LogisticRegression\n",
    "from sklearn.metrics import roc_auc_score, brier_score_loss, confusion_matrix, classification_report\n",
    "from sklearn.calibration import calibration_curve\n",
    "\n",
    "import xgboost as xgb\n",
    "\n",
    "import pandas as pd\n",
    "import plotly.express as px\n",
    "import matplotlib as plt\n",
    "import numpy as np"
   ]
  },
  {
   "cell_type": "markdown",
   "id": "255abe60",
   "metadata": {},
   "source": [
    "Now I import the csv file that contains shot data from moneypuck.com. This is a very large file (contains over 1 million shots between 2015-2023), so it should take a while to load"
   ]
  },
  {
   "cell_type": "code",
   "execution_count": 46,
   "id": "c80f4819",
   "metadata": {},
   "outputs": [],
   "source": [
    "shots_df = pd.read_csv(\"C:/Users/student/Downloads/shots_2015-2023.zip\")"
   ]
  },
  {
   "cell_type": "code",
   "execution_count": 51,
   "id": "ffd4d1af",
   "metadata": {
    "scrolled": false
   },
   "outputs": [
    {
     "data": {
      "text/html": [
       "<div>\n",
       "<style scoped>\n",
       "    .dataframe tbody tr th:only-of-type {\n",
       "        vertical-align: middle;\n",
       "    }\n",
       "\n",
       "    .dataframe tbody tr th {\n",
       "        vertical-align: top;\n",
       "    }\n",
       "\n",
       "    .dataframe thead th {\n",
       "        text-align: right;\n",
       "    }\n",
       "</style>\n",
       "<table border=\"1\" class=\"dataframe\">\n",
       "  <thead>\n",
       "    <tr style=\"text-align: right;\">\n",
       "      <th></th>\n",
       "      <th>shotID</th>\n",
       "      <th>homeTeamCode</th>\n",
       "      <th>awayTeamCode</th>\n",
       "      <th>season</th>\n",
       "      <th>isPlayoffGame</th>\n",
       "      <th>game_id</th>\n",
       "      <th>homeTeamWon</th>\n",
       "      <th>id</th>\n",
       "      <th>time</th>\n",
       "      <th>timeUntilNextEvent</th>\n",
       "      <th>...</th>\n",
       "      <th>xFroze</th>\n",
       "      <th>xRebound</th>\n",
       "      <th>xPlayContinuedInZone</th>\n",
       "      <th>xPlayContinuedOutsideZone</th>\n",
       "      <th>xPlayStopped</th>\n",
       "      <th>xShotWasOnGoal</th>\n",
       "      <th>isHomeTeam</th>\n",
       "      <th>shotWasOnGoal</th>\n",
       "      <th>teamCode</th>\n",
       "      <th>arenaAdjustedXCordABS</th>\n",
       "    </tr>\n",
       "  </thead>\n",
       "  <tbody>\n",
       "    <tr>\n",
       "      <th>0</th>\n",
       "      <td>0</td>\n",
       "      <td>TBL</td>\n",
       "      <td>NSH</td>\n",
       "      <td>2023</td>\n",
       "      <td>0</td>\n",
       "      <td>20001</td>\n",
       "      <td>1</td>\n",
       "      <td>10</td>\n",
       "      <td>61</td>\n",
       "      <td>9.0</td>\n",
       "      <td>...</td>\n",
       "      <td>0.249174</td>\n",
       "      <td>0.035816</td>\n",
       "      <td>0.379310</td>\n",
       "      <td>0.277143</td>\n",
       "      <td>0.022744</td>\n",
       "      <td>0.751320</td>\n",
       "      <td>1.0</td>\n",
       "      <td>1.0</td>\n",
       "      <td>TBL</td>\n",
       "      <td>59.0</td>\n",
       "    </tr>\n",
       "    <tr>\n",
       "      <th>1</th>\n",
       "      <td>1</td>\n",
       "      <td>TBL</td>\n",
       "      <td>NSH</td>\n",
       "      <td>2023</td>\n",
       "      <td>0</td>\n",
       "      <td>20001</td>\n",
       "      <td>1</td>\n",
       "      <td>11</td>\n",
       "      <td>70</td>\n",
       "      <td>26.0</td>\n",
       "      <td>...</td>\n",
       "      <td>0.107945</td>\n",
       "      <td>0.051284</td>\n",
       "      <td>0.464358</td>\n",
       "      <td>0.298119</td>\n",
       "      <td>0.020588</td>\n",
       "      <td>0.589712</td>\n",
       "      <td>1.0</td>\n",
       "      <td>1.0</td>\n",
       "      <td>TBL</td>\n",
       "      <td>81.0</td>\n",
       "    </tr>\n",
       "    <tr>\n",
       "      <th>2</th>\n",
       "      <td>2</td>\n",
       "      <td>TBL</td>\n",
       "      <td>NSH</td>\n",
       "      <td>2023</td>\n",
       "      <td>0</td>\n",
       "      <td>20001</td>\n",
       "      <td>1</td>\n",
       "      <td>13</td>\n",
       "      <td>107</td>\n",
       "      <td>2.0</td>\n",
       "      <td>...</td>\n",
       "      <td>0.236193</td>\n",
       "      <td>0.030269</td>\n",
       "      <td>0.390417</td>\n",
       "      <td>0.301375</td>\n",
       "      <td>0.025620</td>\n",
       "      <td>0.785765</td>\n",
       "      <td>1.0</td>\n",
       "      <td>1.0</td>\n",
       "      <td>TBL</td>\n",
       "      <td>55.0</td>\n",
       "    </tr>\n",
       "    <tr>\n",
       "      <th>3</th>\n",
       "      <td>3</td>\n",
       "      <td>TBL</td>\n",
       "      <td>NSH</td>\n",
       "      <td>2023</td>\n",
       "      <td>0</td>\n",
       "      <td>20001</td>\n",
       "      <td>1</td>\n",
       "      <td>19</td>\n",
       "      <td>177</td>\n",
       "      <td>35.0</td>\n",
       "      <td>...</td>\n",
       "      <td>0.198635</td>\n",
       "      <td>0.033686</td>\n",
       "      <td>0.438052</td>\n",
       "      <td>0.291724</td>\n",
       "      <td>0.021107</td>\n",
       "      <td>0.724471</td>\n",
       "      <td>1.0</td>\n",
       "      <td>1.0</td>\n",
       "      <td>TBL</td>\n",
       "      <td>58.0</td>\n",
       "    </tr>\n",
       "    <tr>\n",
       "      <th>4</th>\n",
       "      <td>4</td>\n",
       "      <td>TBL</td>\n",
       "      <td>NSH</td>\n",
       "      <td>2023</td>\n",
       "      <td>0</td>\n",
       "      <td>20001</td>\n",
       "      <td>1</td>\n",
       "      <td>21</td>\n",
       "      <td>231</td>\n",
       "      <td>29.0</td>\n",
       "      <td>...</td>\n",
       "      <td>0.188582</td>\n",
       "      <td>0.027146</td>\n",
       "      <td>0.406288</td>\n",
       "      <td>0.349752</td>\n",
       "      <td>0.019523</td>\n",
       "      <td>0.727481</td>\n",
       "      <td>0.0</td>\n",
       "      <td>0.0</td>\n",
       "      <td>NSH</td>\n",
       "      <td>64.0</td>\n",
       "    </tr>\n",
       "  </tbody>\n",
       "</table>\n",
       "<p>5 rows × 124 columns</p>\n",
       "</div>"
      ],
      "text/plain": [
       "   shotID homeTeamCode awayTeamCode  season  isPlayoffGame  game_id  \\\n",
       "0       0          TBL          NSH    2023              0    20001   \n",
       "1       1          TBL          NSH    2023              0    20001   \n",
       "2       2          TBL          NSH    2023              0    20001   \n",
       "3       3          TBL          NSH    2023              0    20001   \n",
       "4       4          TBL          NSH    2023              0    20001   \n",
       "\n",
       "   homeTeamWon  id  time  timeUntilNextEvent  ...    xFroze  xRebound  \\\n",
       "0            1  10    61                 9.0  ...  0.249174  0.035816   \n",
       "1            1  11    70                26.0  ...  0.107945  0.051284   \n",
       "2            1  13   107                 2.0  ...  0.236193  0.030269   \n",
       "3            1  19   177                35.0  ...  0.198635  0.033686   \n",
       "4            1  21   231                29.0  ...  0.188582  0.027146   \n",
       "\n",
       "  xPlayContinuedInZone xPlayContinuedOutsideZone xPlayStopped  xShotWasOnGoal  \\\n",
       "0             0.379310                  0.277143     0.022744        0.751320   \n",
       "1             0.464358                  0.298119     0.020588        0.589712   \n",
       "2             0.390417                  0.301375     0.025620        0.785765   \n",
       "3             0.438052                  0.291724     0.021107        0.724471   \n",
       "4             0.406288                  0.349752     0.019523        0.727481   \n",
       "\n",
       "   isHomeTeam  shotWasOnGoal  teamCode  arenaAdjustedXCordABS  \n",
       "0         1.0            1.0       TBL                   59.0  \n",
       "1         1.0            1.0       TBL                   81.0  \n",
       "2         1.0            1.0       TBL                   55.0  \n",
       "3         1.0            1.0       TBL                   58.0  \n",
       "4         0.0            0.0       NSH                   64.0  \n",
       "\n",
       "[5 rows x 124 columns]"
      ]
     },
     "execution_count": 51,
     "metadata": {},
     "output_type": "execute_result"
    }
   ],
   "source": [
    "shots_df.head()"
   ]
  },
  {
   "cell_type": "markdown",
   "id": "250e4682",
   "metadata": {},
   "source": [
    "Each row in the dataset represents a single shot attempt.  \n",
    "The outcome of the shot is recorded in the `goal`column:\n",
    "\n",
    "- `1` → The shot resulted in a goal.  \n",
    "- `0` → The shot did not result in a goal (saved, missed, or blocked).  \n",
    "\n",
    "This binary outcome is the target variable in our model.  \n",
    "Our goal is to predict the probability that a given shot (based on its features such as location, angle, shot type, etc.) will result in `goal = 1`."
   ]
  },
  {
   "cell_type": "code",
   "execution_count": 6,
   "id": "4dcbd899",
   "metadata": {},
   "outputs": [
    {
     "name": "stdout",
     "output_type": "stream",
     "text": [
      "0    937708\n",
      "1     68795\n",
      "Name: goal, dtype: int64\n"
     ]
    }
   ],
   "source": [
    "shots_df['goal'] = shots_df['goal'].astype(int)\n",
    "print(shots_df['goal'].value_counts())"
   ]
  },
  {
   "cell_type": "markdown",
   "id": "4e7f1f9a",
   "metadata": {},
   "source": [
    "In order to clean the dataset, I drop rows where the core shot info (shot distance and shot angle) is missing. I also fill all the empty rows for categorical variables (shot type, event category and the position of the player) as `Unknown`"
   ]
  },
  {
   "cell_type": "code",
   "execution_count": 52,
   "id": "bdf0720d",
   "metadata": {},
   "outputs": [],
   "source": [
    "df = shots_df.dropna(subset=['shotDistance', 'shotAngle'])\n",
    "\n",
    "categorical_cols = ['shotType', 'lastEventCategory', 'playerPositionThatDidEvent']\n",
    "for col in categorical_cols:\n",
    "    df[col] = df[col].fillna(\"Unknown\")\n"
   ]
  },
  {
   "cell_type": "markdown",
   "id": "c4eaaf97",
   "metadata": {},
   "source": [
    "## Feature Selection"
   ]
  },
  {
   "cell_type": "markdown",
   "id": "04c6443b",
   "metadata": {},
   "source": [
    "Before building the xG model, it is important to explore the dataset to identify features that are most predictive of whether a shot will result in a goal.  \n",
    "\n",
    "For training the xG model, I selected the following features:  \n",
    "\n",
    "- `shotDistance`, `shotAngle` : capture shot location and geometry.  \n",
    "- `timeSinceLastEvent` : context of how quickly the shot followed the last play.  \n",
    "- `homeSkatersOnIce`, `awaySkatersOnIce` : represents manpower advantage (e.g., power plays).  \n",
    "- `shotType` : differentiates between wrist shots, slap shots, rebounds, etc.  \n",
    "- `lastEventCategory` : context of the play that directly preceded the shot.  \n",
    "- `playerPositionThatDidEvent` : whether the shooter was a forward or defenseman.  \n",
    "- `period` : situational context (early vs late game).  \n",
    "- `shotRebound`, `shotRush` : captures high-danger situations.  \n",
    "- `isHomeTeam` : possible home-ice advantage. \n",
    "\n",
    "All of these features will be `X` for the model, and the `y` is the target variable, which is `goal`.\n",
    "\n",
    "By focusing on these features in the exploratory analysis, we can better understand the factors that drive scoring chances and select the most relevant predictors for training the xG model."
   ]
  },
  {
   "cell_type": "code",
   "execution_count": 55,
   "id": "99acfe95",
   "metadata": {},
   "outputs": [],
   "source": [
    "features = [\n",
    "    'shotDistance', 'shotAngle', 'timeSinceLastEvent',\n",
    "    'homeSkatersOnIce', 'awaySkatersOnIce',\n",
    "    'shotType', 'lastEventCategory', 'playerPositionThatDidEvent',\n",
    "    'period', 'shotRebound', 'shotRush', 'isHomeTeam'\n",
    "]\n",
    "\n",
    "X = df[features]\n",
    "y = df['goal']"
   ]
  },
  {
   "cell_type": "markdown",
   "id": "0074a278",
   "metadata": {},
   "source": [
    "Since some of the features are categorical variables (like `shotType`, `lastEventCategory`, `playerPositionThatDidEvent`, and `period`), they cannot be directly used in a machine learning model because the model works with numerical inputs. To handle this, I apply one-hot encoding, which converts each category into a new binary column (`0` or `1`)."
   ]
  },
  {
   "cell_type": "code",
   "execution_count": 9,
   "id": "703192fc",
   "metadata": {},
   "outputs": [],
   "source": [
    "X = pd.get_dummies(X, columns=['shotType', 'lastEventCategory', 'playerPositionThatDidEvent', 'period'], drop_first=True)"
   ]
  },
  {
   "cell_type": "markdown",
   "id": "b241e56e",
   "metadata": {},
   "source": [
    "## Model Building"
   ]
  },
  {
   "cell_type": "markdown",
   "id": "b86555b1",
   "metadata": {},
   "source": [
    "For the other numerical columns, I have to make sure no feature dominates the model. To deal with this, I apply `StandardScaler`, which standardizes them to have mean `0` and standard deviation `1`."
   ]
  },
  {
   "cell_type": "code",
   "execution_count": 10,
   "id": "96b116c0",
   "metadata": {},
   "outputs": [],
   "source": [
    "num_cols = ['shotDistance', 'shotAngle', 'timeSinceLastEvent', 'homeSkatersOnIce', 'awaySkatersOnIce']\n",
    "scaler = StandardScaler()\n",
    "X[num_cols] = scaler.fit_transform(X[num_cols])"
   ]
  },
  {
   "cell_type": "markdown",
   "id": "9c5e5693",
   "metadata": {},
   "source": [
    "The dataset is now split into training (80%) and testing (20%) sets using `train_test_split`."
   ]
  },
  {
   "cell_type": "code",
   "execution_count": 56,
   "id": "e4dc8b18",
   "metadata": {},
   "outputs": [],
   "source": [
    "X_train, X_test, y_train, y_test = train_test_split(\n",
    "    X, y, test_size=0.2, stratify=y, random_state=42\n",
    ")"
   ]
  },
  {
   "cell_type": "markdown",
   "id": "11d8bcc8",
   "metadata": {},
   "source": [
    "The first model I create is a simple logistic regression, which will serve as the baseline. It is interpretable and well-suited for binary classification (goal vs. no goal)\n",
    "\n",
    "In order to deal with the natural imbalnce of the data (most shots don't end up as goals), the `class_weight` is set to `balanced`"
   ]
  },
  {
   "cell_type": "code",
   "execution_count": 12,
   "id": "cc870bdf",
   "metadata": {},
   "outputs": [
    {
     "data": {
      "text/plain": [
       "LogisticRegression(class_weight='balanced', max_iter=1000)"
      ]
     },
     "execution_count": 12,
     "metadata": {},
     "output_type": "execute_result"
    }
   ],
   "source": [
    "log_reg = LogisticRegression(max_iter=1000, class_weight=\"balanced\")\n",
    "log_reg.fit(X_train, y_train)"
   ]
  },
  {
   "cell_type": "markdown",
   "id": "531265bb",
   "metadata": {},
   "source": [
    "Predictions:\n",
    "\n",
    "The model outputs two things:\n",
    "\n",
    "Predicted probabilities (`predict_proba`): likelihood that a shot becomes a goal.\n",
    "\n",
    "Predicted labels (`predict`): whether the model classifies the shot as a goal `1` or not `0`."
   ]
  },
  {
   "cell_type": "code",
   "execution_count": 13,
   "id": "bb07dd5a",
   "metadata": {},
   "outputs": [
    {
     "name": "stdout",
     "output_type": "stream",
     "text": [
      "ROC-AUC Score: 0.718\n",
      "Brier Score: 0.218\n",
      "Confusion Matrix:\n",
      "[[115955  71587]\n",
      " [  4029   9730]]\n",
      "Classification Report:\n",
      "              precision    recall  f1-score   support\n",
      "\n",
      "           0       0.97      0.62      0.75    187542\n",
      "           1       0.12      0.71      0.20     13759\n",
      "\n",
      "    accuracy                           0.62    201301\n",
      "   macro avg       0.54      0.66      0.48    201301\n",
      "weighted avg       0.91      0.62      0.72    201301\n",
      "\n"
     ]
    }
   ],
   "source": [
    "y_pred_proba = log_reg.predict_proba(X_test)[:, 1]\n",
    "y_pred = log_reg.predict(X_test)\n",
    "\n",
    "auc = roc_auc_score(y_test, y_pred_proba)\n",
    "brier = brier_score_loss(y_test, y_pred_proba)\n",
    "\n",
    "print(f\"ROC-AUC Score: {auc:.3f}\")\n",
    "print(f\"Brier Score: {brier:.3f}\")\n",
    "print(\"Confusion Matrix:\")\n",
    "print(confusion_matrix(y_test, y_pred))\n",
    "print(\"Classification Report:\")\n",
    "print(classification_report(y_test, y_pred))"
   ]
  },
  {
   "cell_type": "markdown",
   "id": "27da45b6",
   "metadata": {},
   "source": [
    "## Evaluating the Model"
   ]
  },
  {
   "cell_type": "markdown",
   "id": "a62dfcd7",
   "metadata": {},
   "source": [
    "Evaluation Metrics\n",
    "\n",
    "ROC-AUC Score (0.718): Measures how well the model distinguishes goals vs. non-goals. A score closer to 1 is better.\n",
    "\n",
    "Brier Score (0.218): Measures calibration (how close predicted probabilities are to actual outcomes). Lower is better.\n",
    "\n",
    "Confusion Matrix & Classification Report: Provide more detail about precision, recall, and accuracy."
   ]
  },
  {
   "cell_type": "markdown",
   "id": "6f7e0b2b",
   "metadata": {},
   "source": [
    "After fitting the Logistic Regression model, I inspect the learned coefficients for each feature.  \n",
    "These values indicate both the direction and strength of each feature’s relationship with the probability that a shot becomes a goal.\n",
    "\n",
    "- Sign (+/-):\n",
    "  - Positive coefficient → increases the log-odds of a goal (higher predicted xG).\n",
    "  - Negative coefficient → decreases the log-odds of a goal (lower predicted xG).\n",
    "\n",
    "- Magnitude\n",
    "  - Larger absolute values imply a stronger influence on the prediction.\n",
    "  - Remember that coefficients are on the log-odds scale; comparisons are most meaningful relative to each other.\n",
    "\n",
    "Below, are the 15 most positive and 15 most negative coefficients.  \n",
    "This highlights which shot/context features the model associates with higher vs lower scoring likelihood.\n",
    "\n",
    "Examples that align with hockey intuition:\n",
    "- `shotRush`, `shotRebound`, and categories like `lastEventCategory_CHL` show positive effects: rushes/rebounds/slot chances tend to be dangerous.\n",
    "- `shotDistance` and some late-period indicators (e.g., `period_6`) show negative effects: longer-distance shots and certain special situations tend to be less likely to score."
   ]
  },
  {
   "cell_type": "code",
   "execution_count": 14,
   "id": "9ba759fe",
   "metadata": {},
   "outputs": [
    {
     "name": "stdout",
     "output_type": "stream",
     "text": [
      "                               Feature  Coefficient\n",
      "16               lastEventCategory_CHL     2.389667\n",
      "36  playerPositionThatDidEvent_Unknown     1.175297\n",
      "21              lastEventCategory_GEND     0.924788\n",
      "6                             shotRush     0.812261\n",
      "12                    shotType_Unknown     0.759995\n",
      "9                        shotType_SLAP     0.695882\n",
      "5                          shotRebound     0.678821\n",
      "43                            period_8     0.650487\n",
      "10                       shotType_SNAP     0.627180\n",
      "39                            period_4     0.511245\n",
      "14                      shotType_WRIST     0.337566\n",
      "30              lastEventCategory_STOP     0.327547\n",
      "38                            period_3     0.280504\n",
      "27              lastEventCategory_PENL     0.204859\n",
      "8                        shotType_DEFL     0.186416\n",
      "                         Feature  Coefficient\n",
      "19       lastEventCategory_EISTR    -0.161896\n",
      "31        lastEventCategory_TAKE    -0.216442\n",
      "32  playerPositionThatDidEvent_D    -0.272037\n",
      "18         lastEventCategory_EGT    -0.282036\n",
      "15       lastEventCategory_BLOCK    -0.351207\n",
      "33  playerPositionThatDidEvent_G    -0.457670\n",
      "25        lastEventCategory_MISS    -0.466450\n",
      "20         lastEventCategory_FAC    -0.504138\n",
      "29        lastEventCategory_SHOT    -0.512644\n",
      "24         lastEventCategory_HIT    -0.593061\n",
      "0                   shotDistance    -0.747993\n",
      "13                 shotType_WRAP    -0.754870\n",
      "28        lastEventCategory_PSTR    -0.781775\n",
      "42                      period_7    -0.877307\n",
      "41                      period_6    -2.389327\n"
     ]
    }
   ],
   "source": [
    "coeffs = pd.DataFrame({\n",
    "    \"Feature\": X.columns,\n",
    "    \"Coefficient\": log_reg.coef_[0]\n",
    "}).sort_values(by=\"Coefficient\", ascending=False)\n",
    "\n",
    "print(coeffs.head(15))\n",
    "print(coeffs.tail(15))"
   ]
  },
  {
   "cell_type": "markdown",
   "id": "ec50e598",
   "metadata": {},
   "source": [
    "### Building an XGBoost Model\n",
    "\n",
    "After testing Logistic Regression, I also trained an XGBoost Classifier to capture more complex, non-linear relationships in the shot data.  \n",
    "\n",
    "XGBoost (Extreme Gradient Boosting) is an ensemble learning method that builds many decision trees sequentially, where each new tree attempts to correct the errors of the previous ones. It is well-suited for tabular datasets like this one and often performs better than linear models because it can capture interactions between features.  \n",
    "\n",
    "The model is then trained on the training dataset (`X_train`, `y_train`) and learns patterns that can better predict whether a shot results in a goal compared to a baseline Logistic Regression.  \n"
   ]
  },
  {
   "cell_type": "code",
   "execution_count": 15,
   "id": "a940f652",
   "metadata": {},
   "outputs": [
    {
     "name": "stderr",
     "output_type": "stream",
     "text": [
      "C:\\Users\\student\\anaconda3\\lib\\site-packages\\xgboost\\core.py:158: UserWarning: [11:44:29] WARNING: C:\\buildkite-agent\\builds\\buildkite-windows-cpu-autoscaling-group-i-08cbc0333d8d4aae1-1\\xgboost\\xgboost-ci-windows\\src\\learner.cc:740: \n",
      "Parameters: { \"use_label_encoder\" } are not used.\n",
      "\n",
      "  warnings.warn(smsg, UserWarning)\n"
     ]
    },
    {
     "data": {
      "text/plain": [
       "XGBClassifier(base_score=None, booster=None, callbacks=None,\n",
       "              colsample_bylevel=None, colsample_bynode=None,\n",
       "              colsample_bytree=0.8, device=None, early_stopping_rounds=None,\n",
       "              enable_categorical=False, eval_metric='logloss',\n",
       "              feature_types=None, gamma=None, grow_policy=None,\n",
       "              importance_type=None, interaction_constraints=None,\n",
       "              learning_rate=0.05, max_bin=None, max_cat_threshold=None,\n",
       "              max_cat_to_onehot=None, max_delta_step=None, max_depth=6,\n",
       "              max_leaves=None, min_child_weight=None, missing=nan,\n",
       "              monotone_constraints=None, multi_strategy=None, n_estimators=500,\n",
       "              n_jobs=None, num_parallel_tree=None, random_state=None, ...)"
      ]
     },
     "execution_count": 15,
     "metadata": {},
     "output_type": "execute_result"
    }
   ],
   "source": [
    "xgb_model = xgb.XGBClassifier(\n",
    "    n_estimators=500,\n",
    "    learning_rate=0.05,\n",
    "    max_depth=6, \n",
    "    subsample=0.8,     \n",
    "    colsample_bytree=0.8,\n",
    "    eval_metric=\"logloss\",\n",
    "    use_label_encoder=False,\n",
    "    scale_pos_weight=len(y_train[y_train==0]) / len(y_train[y_train==1])\n",
    ")\n",
    "\n",
    "xgb_model.fit(X_train, y_train)"
   ]
  },
  {
   "cell_type": "markdown",
   "id": "5e1a8ac7",
   "metadata": {},
   "source": [
    "Just like the logistic regression, I am going to evaluate the model and see how it performed."
   ]
  },
  {
   "cell_type": "code",
   "execution_count": 16,
   "id": "1e2f8003",
   "metadata": {},
   "outputs": [
    {
     "name": "stdout",
     "output_type": "stream",
     "text": [
      "ROC-AUC Score: 0.773\n",
      "Brier Score: 0.192\n",
      "Confusion Matrix:\n",
      "[[ 17018 170524]\n",
      " [   110  13649]]\n",
      "Classification Report:\n",
      "              precision    recall  f1-score   support\n",
      "\n",
      "           0       0.99      0.09      0.17    187542\n",
      "           1       0.07      0.99      0.14     13759\n",
      "\n",
      "    accuracy                           0.15    201301\n",
      "   macro avg       0.53      0.54      0.15    201301\n",
      "weighted avg       0.93      0.15      0.16    201301\n",
      "\n"
     ]
    }
   ],
   "source": [
    "y_pred_proba = xgb_model.predict_proba(X_test)[:, 1]\n",
    "y_pred = (y_pred_proba > 0.1).astype(int) \n",
    "\n",
    "auc = roc_auc_score(y_test, y_pred_proba)\n",
    "brier = brier_score_loss(y_test, y_pred_proba)\n",
    "\n",
    "print(f\"ROC-AUC Score: {auc:.3f}\")\n",
    "print(f\"Brier Score: {brier:.3f}\")\n",
    "print(\"Confusion Matrix:\")\n",
    "print(confusion_matrix(y_test, y_pred))\n",
    "print(\"Classification Report:\")\n",
    "print(classification_report(y_test, y_pred, zero_division=0))"
   ]
  },
  {
   "cell_type": "markdown",
   "id": "563b739a",
   "metadata": {},
   "source": [
    "### Comparing logistic regression and XGBoost"
   ]
  },
  {
   "cell_type": "markdown",
   "id": "d4e51614",
   "metadata": {},
   "source": [
    "Logistic Regression: More balanced but weaker separation, with moderate performance in both classes.\n",
    "\n",
    "XGBoost: Very strong at identifying goals (class 1) with high recall (0.99), but struggles with precision, leading to many false positives (predicting a goal when it wasn’t).\n",
    "\n",
    "Overall: XGBoost achieves higher overall discrimination, but Logistic Regression provides easier interpretability."
   ]
  },
  {
   "cell_type": "markdown",
   "id": "638bd8ac",
   "metadata": {},
   "source": [
    "The chart that scores the most important features when predicting a goal in the xgboost model.\n",
    "\n",
    "`shotAngle` and `shotDistance` are the most important predictors of whether a shot results in a goal. They have the highest F-scores (5336 and 5321), meaning they were most frequently used in decision splits across the boosted trees."
   ]
  },
  {
   "cell_type": "code",
   "execution_count": 17,
   "id": "9cbdeece",
   "metadata": {},
   "outputs": [
    {
     "data": {
      "image/png": "[encoded data removed]",
      "text/plain": [
       "<Figure size 432x288 with 1 Axes>"
      ]
     },
     "metadata": {
      "needs_background": "light"
     },
     "output_type": "display_data"
    }
   ],
   "source": [
    "xgb.plot_importance(xgb_model, max_num_features=15)\n",
    "plt.show()"
   ]
  },
  {
   "cell_type": "markdown",
   "id": "1ca57d5d",
   "metadata": {},
   "source": [
    "### Calibration Curves\n",
    "\n",
    "A calibration curve shows the probability of a shot being a goal directly. \n",
    "\n",
    "- The blue line shows the relationship between the predicted probabilities from the model and the actual observed frequency of goals. \n",
    "- The orange dashed line is the ideal calibration line, where predicted probabilities perfectly match observed frequencies.\n",
    "\n",
    "The blue curve in the chart below is way below the ideal calibration line until the very high probailities. This shows that for most shots, the model is overestimating the chance of a goal."
   ]
  },
  {
   "cell_type": "code",
   "execution_count": 18,
   "id": "482b6f8e",
   "metadata": {},
   "outputs": [
    {
     "data": {
      "image/png": "[encoded data removed]",
      "text/plain": [
       "<Figure size 432x288 with 1 Axes>"
      ]
     },
     "metadata": {
      "needs_background": "light"
     },
     "output_type": "display_data"
    }
   ],
   "source": [
    "prob_true, prob_pred = calibration_curve(y_test, y_pred_proba, n_bins=20)\n",
    "plt.plot(prob_pred, prob_true, marker=\"o\")\n",
    "plt.plot([0,1],[0,1], linestyle=\"--\")\n",
    "plt.xlabel(\"Predicted Probability\")\n",
    "plt.ylabel(\"Observed Frequency\")\n",
    "plt.title(\"Calibration Curve\")\n",
    "plt.show()"
   ]
  },
  {
   "cell_type": "markdown",
   "id": "df18a1db",
   "metadata": {},
   "source": [
    "In order to improve the line, I chose to do an isotonic regression. This method is very beneficial when there is a large amount of data as it prevents overfitting"
   ]
  },
  {
   "cell_type": "code",
   "execution_count": 19,
   "id": "51eb2977",
   "metadata": {
    "scrolled": true
   },
   "outputs": [
    {
     "name": "stderr",
     "output_type": "stream",
     "text": [
      "C:\\Users\\student\\anaconda3\\lib\\site-packages\\xgboost\\core.py:158: UserWarning: [11:44:59] WARNING: C:\\buildkite-agent\\builds\\buildkite-windows-cpu-autoscaling-group-i-08cbc0333d8d4aae1-1\\xgboost\\xgboost-ci-windows\\src\\learner.cc:740: \n",
      "Parameters: { \"use_label_encoder\" } are not used.\n",
      "\n",
      "  warnings.warn(smsg, UserWarning)\n",
      "C:\\Users\\student\\anaconda3\\lib\\site-packages\\xgboost\\core.py:158: UserWarning: [11:45:35] WARNING: C:\\buildkite-agent\\builds\\buildkite-windows-cpu-autoscaling-group-i-08cbc0333d8d4aae1-1\\xgboost\\xgboost-ci-windows\\src\\learner.cc:740: \n",
      "Parameters: { \"use_label_encoder\" } are not used.\n",
      "\n",
      "  warnings.warn(smsg, UserWarning)\n",
      "C:\\Users\\student\\anaconda3\\lib\\site-packages\\xgboost\\core.py:158: UserWarning: [11:46:07] WARNING: C:\\buildkite-agent\\builds\\buildkite-windows-cpu-autoscaling-group-i-08cbc0333d8d4aae1-1\\xgboost\\xgboost-ci-windows\\src\\learner.cc:740: \n",
      "Parameters: { \"use_label_encoder\" } are not used.\n",
      "\n",
      "  warnings.warn(smsg, UserWarning)\n",
      "C:\\Users\\student\\anaconda3\\lib\\site-packages\\xgboost\\core.py:158: UserWarning: [11:46:29] WARNING: C:\\buildkite-agent\\builds\\buildkite-windows-cpu-autoscaling-group-i-08cbc0333d8d4aae1-1\\xgboost\\xgboost-ci-windows\\src\\learner.cc:740: \n",
      "Parameters: { \"use_label_encoder\" } are not used.\n",
      "\n",
      "  warnings.warn(smsg, UserWarning)\n",
      "C:\\Users\\student\\anaconda3\\lib\\site-packages\\xgboost\\core.py:158: UserWarning: [11:46:51] WARNING: C:\\buildkite-agent\\builds\\buildkite-windows-cpu-autoscaling-group-i-08cbc0333d8d4aae1-1\\xgboost\\xgboost-ci-windows\\src\\learner.cc:740: \n",
      "Parameters: { \"use_label_encoder\" } are not used.\n",
      "\n",
      "  warnings.warn(smsg, UserWarning)\n"
     ]
    }
   ],
   "source": [
    "from sklearn.calibration import CalibratedClassifierCV\n",
    "\n",
    "calibrated_model = CalibratedClassifierCV(xgb_model, cv=5, method=\"isotonic\")\n",
    "calibrated_model.fit(X_train, y_train)\n",
    "\n",
    "y_calibrated = calibrated_model.predict_proba(X_test)[:, 1]"
   ]
  },
  {
   "cell_type": "code",
   "execution_count": 20,
   "id": "ad0cd4a2",
   "metadata": {},
   "outputs": [
    {
     "data": {
      "image/png": "[encoded data removed]",
      "text/plain": [
       "<Figure size 432x288 with 1 Axes>"
      ]
     },
     "metadata": {
      "needs_background": "light"
     },
     "output_type": "display_data"
    }
   ],
   "source": [
    "prob_true, prob_pred = calibration_curve(y_test, y_calibrated, n_bins=20)\n",
    "\n",
    "plt.plot(prob_pred, prob_true, marker=\"o\")\n",
    "plt.plot([0,1],[0,1], linestyle=\"--\")\n",
    "plt.xlabel(\"Predicted Probability\")\n",
    "plt.ylabel(\"Observed Frequency\")\n",
    "plt.title(\"Calibration Curve (Calibrated Model)\")\n",
    "plt.show()"
   ]
  },
  {
   "cell_type": "markdown",
   "id": "1ae49252",
   "metadata": {},
   "source": [
    "After applying isotonic regression with `CalibratedClassifierCV`, the calibration curve improves significantly:  \n",
    "- The blue curve closely follows the diagonal reference line (orange line), meaning predicted probabilities now match observed frequencies much more closely.  \n",
    "- For example, when the model predicts a 0.7 probability of a goal, roughly 70% of those shots actually resulted in a goal.  \n",
    "- This demonstrates that calibration corrected the bias in the raw XGBoost probabilities, making them well-calibrated and reliable."
   ]
  },
  {
   "cell_type": "markdown",
   "id": "dcb2dfb2",
   "metadata": {},
   "source": [
    "## Player Evaluation"
   ]
  },
  {
   "cell_type": "markdown",
   "id": "6afbde56",
   "metadata": {},
   "source": [
    "Now that the model is built, I am going to look at how it predicted the expected goals for each player. \n",
    "\n",
    "First I need to join the test dataframe with certain columns in the original dataframe (df) in order to get the names of the players that took each shot. "
   ]
  },
  {
   "cell_type": "code",
   "execution_count": 101,
   "id": "b71ad125",
   "metadata": {},
   "outputs": [
    {
     "name": "stdout",
     "output_type": "stream",
     "text": [
      "        goal        xG  shooterPlayerId         shooterName  team  game_id  \\\n",
      "642492     0  0.063358        8478038.0         Devon Toews  HOME    21084   \n",
      "55051      0  0.025341        8476931.0         Jake McCabe  HOME    20627   \n",
      "273000     0  0.009711        8478399.0  Jonas Siegenthaler  HOME    20339   \n",
      "276182     0  0.104524        8476934.0        Brock McGinn  AWAY    20376   \n",
      "263672     0  0.101769        8473419.0       Brad Marchand  HOME    20224   \n",
      "\n",
      "        season  \n",
      "642492    2018  \n",
      "55051     2023  \n",
      "273000    2021  \n",
      "276182    2021  \n",
      "263672    2021  \n"
     ]
    }
   ],
   "source": [
    "idx_test = X_test.index\n",
    "\n",
    "meta_cols = [\"shooterPlayerId\", \"shooterName\", \"team\", \"game_id\", \"season\"]\n",
    "\n",
    "df.rename(columns=lambda c: c.strip(), inplace=True)\n",
    "\n",
    "df_test = pd.DataFrame(index=idx_test)\n",
    "df_test[\"goal\"] = y_test\n",
    "df_test[\"xG\"]   = y_calibrated\n",
    "\n",
    "df_test = df_test.join(df.loc[idx_test, meta_cols])\n",
    "\n",
    "print(df_test.head())"
   ]
  },
  {
   "cell_type": "markdown",
   "id": "9096574e",
   "metadata": {},
   "source": [
    "Now I am going to group by each player to see how many expected goals the model predicted and the number of actual goals they have scored, along with the difference between the two.\n",
    "\n",
    "Since I am only using the test data, the number of goals and expected goals will seem low (the test data contains only 20% of the entire dataset)"
   ]
  },
  {
   "cell_type": "code",
   "execution_count": 102,
   "id": "0fc8451c",
   "metadata": {},
   "outputs": [
    {
     "data": {
      "text/html": [
       "<div>\n",
       "<style scoped>\n",
       "    .dataframe tbody tr th:only-of-type {\n",
       "        vertical-align: middle;\n",
       "    }\n",
       "\n",
       "    .dataframe tbody tr th {\n",
       "        vertical-align: top;\n",
       "    }\n",
       "\n",
       "    .dataframe thead th {\n",
       "        text-align: right;\n",
       "    }\n",
       "</style>\n",
       "<table border=\"1\" class=\"dataframe\">\n",
       "  <thead>\n",
       "    <tr style=\"text-align: right;\">\n",
       "      <th></th>\n",
       "      <th>shooterPlayerId</th>\n",
       "      <th>shooterName</th>\n",
       "      <th>total_shots</th>\n",
       "      <th>total_xG</th>\n",
       "      <th>actual_goals</th>\n",
       "      <th>goals_minus_xG</th>\n",
       "    </tr>\n",
       "  </thead>\n",
       "  <tbody>\n",
       "    <tr>\n",
       "      <th>699</th>\n",
       "      <td>8476453.0</td>\n",
       "      <td>Nikita Kucherov</td>\n",
       "      <td>654</td>\n",
       "      <td>48.706474</td>\n",
       "      <td>75</td>\n",
       "      <td>26.293526</td>\n",
       "    </tr>\n",
       "    <tr>\n",
       "      <th>364</th>\n",
       "      <td>8474564.0</td>\n",
       "      <td>Steven Stamkos</td>\n",
       "      <td>523</td>\n",
       "      <td>43.494830</td>\n",
       "      <td>67</td>\n",
       "      <td>23.505170</td>\n",
       "    </tr>\n",
       "    <tr>\n",
       "      <th>162</th>\n",
       "      <td>8471214.0</td>\n",
       "      <td>Alex Ovechkin</td>\n",
       "      <td>832</td>\n",
       "      <td>62.646743</td>\n",
       "      <td>85</td>\n",
       "      <td>22.353257</td>\n",
       "    </tr>\n",
       "    <tr>\n",
       "      <th>1212</th>\n",
       "      <td>8479318.0</td>\n",
       "      <td>Auston Matthews</td>\n",
       "      <td>712</td>\n",
       "      <td>62.651813</td>\n",
       "      <td>84</td>\n",
       "      <td>21.348187</td>\n",
       "    </tr>\n",
       "    <tr>\n",
       "      <th>976</th>\n",
       "      <td>8477934.0</td>\n",
       "      <td>Leon Draisaitl</td>\n",
       "      <td>593</td>\n",
       "      <td>59.186339</td>\n",
       "      <td>80</td>\n",
       "      <td>20.813661</td>\n",
       "    </tr>\n",
       "    <tr>\n",
       "      <th>1095</th>\n",
       "      <td>8478420.0</td>\n",
       "      <td>Mikko Rantanen</td>\n",
       "      <td>516</td>\n",
       "      <td>45.058290</td>\n",
       "      <td>65</td>\n",
       "      <td>19.941710</td>\n",
       "    </tr>\n",
       "    <tr>\n",
       "      <th>705</th>\n",
       "      <td>8476459.0</td>\n",
       "      <td>Mika Zibanejad</td>\n",
       "      <td>580</td>\n",
       "      <td>45.758358</td>\n",
       "      <td>65</td>\n",
       "      <td>19.241642</td>\n",
       "    </tr>\n",
       "    <tr>\n",
       "      <th>924</th>\n",
       "      <td>8477492.0</td>\n",
       "      <td>Nathan MacKinnon</td>\n",
       "      <td>825</td>\n",
       "      <td>58.906064</td>\n",
       "      <td>78</td>\n",
       "      <td>19.093936</td>\n",
       "    </tr>\n",
       "    <tr>\n",
       "      <th>274</th>\n",
       "      <td>8473512.0</td>\n",
       "      <td>Claude Giroux</td>\n",
       "      <td>500</td>\n",
       "      <td>33.725877</td>\n",
       "      <td>52</td>\n",
       "      <td>18.274123</td>\n",
       "    </tr>\n",
       "    <tr>\n",
       "      <th>519</th>\n",
       "      <td>8475692.0</td>\n",
       "      <td>Mats Zuccarello</td>\n",
       "      <td>409</td>\n",
       "      <td>31.482636</td>\n",
       "      <td>47</td>\n",
       "      <td>15.517364</td>\n",
       "    </tr>\n",
       "  </tbody>\n",
       "</table>\n",
       "</div>"
      ],
      "text/plain": [
       "      shooterPlayerId       shooterName  total_shots   total_xG  actual_goals  \\\n",
       "699         8476453.0   Nikita Kucherov          654  48.706474            75   \n",
       "364         8474564.0    Steven Stamkos          523  43.494830            67   \n",
       "162         8471214.0     Alex Ovechkin          832  62.646743            85   \n",
       "1212        8479318.0   Auston Matthews          712  62.651813            84   \n",
       "976         8477934.0    Leon Draisaitl          593  59.186339            80   \n",
       "1095        8478420.0    Mikko Rantanen          516  45.058290            65   \n",
       "705         8476459.0    Mika Zibanejad          580  45.758358            65   \n",
       "924         8477492.0  Nathan MacKinnon          825  58.906064            78   \n",
       "274         8473512.0     Claude Giroux          500  33.725877            52   \n",
       "519         8475692.0   Mats Zuccarello          409  31.482636            47   \n",
       "\n",
       "      goals_minus_xG  \n",
       "699        26.293526  \n",
       "364        23.505170  \n",
       "162        22.353257  \n",
       "1212       21.348187  \n",
       "976        20.813661  \n",
       "1095       19.941710  \n",
       "705        19.241642  \n",
       "924        19.093936  \n",
       "274        18.274123  \n",
       "519        15.517364  "
      ]
     },
     "execution_count": 102,
     "metadata": {},
     "output_type": "execute_result"
    }
   ],
   "source": [
    "player_xg = (\n",
    "    df_test.groupby([\"shooterPlayerId\", \"shooterName\"], dropna=False)\n",
    "           .agg(total_shots=(\"xG\", \"count\"),\n",
    "                total_xG=(\"xG\", \"sum\"),\n",
    "                actual_goals=(\"goal\", \"sum\"))\n",
    "           .reset_index()\n",
    ")\n",
    "player_xg[\"goals_minus_xG\"] = player_xg[\"actual_goals\"] - player_xg[\"total_xG\"]\n",
    "player_xg.sort_values(\"goals_minus_xG\", ascending=False).head(10)"
   ]
  },
  {
   "cell_type": "markdown",
   "id": "c5aed591",
   "metadata": {},
   "source": [
    "As you can see, the players that have the highest difference in goals and expected goals are some of the best players in the world. This is because xG assumes an average skater vs. an average goalie, so players like Auston Matthews and Nikita Kucherov will finish well above their predicted value due to their elite shooting skill. "
   ]
  },
  {
   "cell_type": "markdown",
   "id": "64ae1ecd",
   "metadata": {},
   "source": [
    "In order to clean this dataset, I am only going to include players that have taken at least 100 shots. I'm also going to look at the shooting percentages by dividing the goals and xG by the number of shots"
   ]
  },
  {
   "cell_type": "code",
   "execution_count": 103,
   "id": "48dc40e8",
   "metadata": {},
   "outputs": [],
   "source": [
    "min_shots = 100\n",
    "player_xg = player_xg[player_xg.total_shots >= min_shots].copy()\n",
    "\n",
    "player_xg[\"goals_per_shot\"] = player_xg.actual_goals / player_xg.total_shots\n",
    "player_xg[\"xg_per_shot\"]    = player_xg.total_xG / player_xg.total_shots\n",
    "player_xg[\"finishing_plus_minus\"] = player_xg.goals_minus_xG "
   ]
  },
  {
   "cell_type": "code",
   "execution_count": 104,
   "id": "7515cff8",
   "metadata": {},
   "outputs": [
    {
     "data": {
      "text/html": [
       "<div>\n",
       "<style scoped>\n",
       "    .dataframe tbody tr th:only-of-type {\n",
       "        vertical-align: middle;\n",
       "    }\n",
       "\n",
       "    .dataframe tbody tr th {\n",
       "        vertical-align: top;\n",
       "    }\n",
       "\n",
       "    .dataframe thead th {\n",
       "        text-align: right;\n",
       "    }\n",
       "</style>\n",
       "<table border=\"1\" class=\"dataframe\">\n",
       "  <thead>\n",
       "    <tr style=\"text-align: right;\">\n",
       "      <th></th>\n",
       "      <th>shooterPlayerId</th>\n",
       "      <th>shooterName</th>\n",
       "      <th>total_shots</th>\n",
       "      <th>total_xG</th>\n",
       "      <th>actual_goals</th>\n",
       "      <th>goals_minus_xG</th>\n",
       "      <th>goals_per_shot</th>\n",
       "      <th>xg_per_shot</th>\n",
       "      <th>finishing_plus_minus</th>\n",
       "    </tr>\n",
       "  </thead>\n",
       "  <tbody>\n",
       "    <tr>\n",
       "      <th>439</th>\n",
       "      <td>8475166.0</td>\n",
       "      <td>John Tavares</td>\n",
       "      <td>646</td>\n",
       "      <td>66.070978</td>\n",
       "      <td>69</td>\n",
       "      <td>2.929022</td>\n",
       "      <td>0.106811</td>\n",
       "      <td>0.102277</td>\n",
       "      <td>2.929022</td>\n",
       "    </tr>\n",
       "    <tr>\n",
       "      <th>1085</th>\n",
       "      <td>8478402.0</td>\n",
       "      <td>Connor McDavid</td>\n",
       "      <td>672</td>\n",
       "      <td>65.032495</td>\n",
       "      <td>77</td>\n",
       "      <td>11.967505</td>\n",
       "      <td>0.114583</td>\n",
       "      <td>0.096775</td>\n",
       "      <td>11.967505</td>\n",
       "    </tr>\n",
       "    <tr>\n",
       "      <th>1212</th>\n",
       "      <td>8479318.0</td>\n",
       "      <td>Auston Matthews</td>\n",
       "      <td>712</td>\n",
       "      <td>62.651813</td>\n",
       "      <td>84</td>\n",
       "      <td>21.348187</td>\n",
       "      <td>0.117978</td>\n",
       "      <td>0.087994</td>\n",
       "      <td>21.348187</td>\n",
       "    </tr>\n",
       "    <tr>\n",
       "      <th>162</th>\n",
       "      <td>8471214.0</td>\n",
       "      <td>Alex Ovechkin</td>\n",
       "      <td>832</td>\n",
       "      <td>62.646743</td>\n",
       "      <td>85</td>\n",
       "      <td>22.353257</td>\n",
       "      <td>0.102163</td>\n",
       "      <td>0.075297</td>\n",
       "      <td>22.353257</td>\n",
       "    </tr>\n",
       "    <tr>\n",
       "      <th>976</th>\n",
       "      <td>8477934.0</td>\n",
       "      <td>Leon Draisaitl</td>\n",
       "      <td>593</td>\n",
       "      <td>59.186339</td>\n",
       "      <td>80</td>\n",
       "      <td>20.813661</td>\n",
       "      <td>0.134907</td>\n",
       "      <td>0.099808</td>\n",
       "      <td>20.813661</td>\n",
       "    </tr>\n",
       "    <tr>\n",
       "      <th>997</th>\n",
       "      <td>8477956.0</td>\n",
       "      <td>David Pastrnak</td>\n",
       "      <td>768</td>\n",
       "      <td>58.925635</td>\n",
       "      <td>74</td>\n",
       "      <td>15.074365</td>\n",
       "      <td>0.096354</td>\n",
       "      <td>0.076726</td>\n",
       "      <td>15.074365</td>\n",
       "    </tr>\n",
       "    <tr>\n",
       "      <th>924</th>\n",
       "      <td>8477492.0</td>\n",
       "      <td>Nathan MacKinnon</td>\n",
       "      <td>825</td>\n",
       "      <td>58.906064</td>\n",
       "      <td>78</td>\n",
       "      <td>19.093936</td>\n",
       "      <td>0.094545</td>\n",
       "      <td>0.071401</td>\n",
       "      <td>19.093936</td>\n",
       "    </tr>\n",
       "    <tr>\n",
       "      <th>207</th>\n",
       "      <td>8471675.0</td>\n",
       "      <td>Sidney Crosby</td>\n",
       "      <td>619</td>\n",
       "      <td>57.246991</td>\n",
       "      <td>62</td>\n",
       "      <td>4.753009</td>\n",
       "      <td>0.100162</td>\n",
       "      <td>0.092483</td>\n",
       "      <td>4.753009</td>\n",
       "    </tr>\n",
       "    <tr>\n",
       "      <th>1099</th>\n",
       "      <td>8478427.0</td>\n",
       "      <td>Sebastian Aho</td>\n",
       "      <td>536</td>\n",
       "      <td>56.540369</td>\n",
       "      <td>52</td>\n",
       "      <td>-4.540369</td>\n",
       "      <td>0.097015</td>\n",
       "      <td>0.105486</td>\n",
       "      <td>-4.540369</td>\n",
       "    </tr>\n",
       "    <tr>\n",
       "      <th>975</th>\n",
       "      <td>8477933.0</td>\n",
       "      <td>Sam Reinhart</td>\n",
       "      <td>551</td>\n",
       "      <td>54.576428</td>\n",
       "      <td>63</td>\n",
       "      <td>8.423572</td>\n",
       "      <td>0.114338</td>\n",
       "      <td>0.099050</td>\n",
       "      <td>8.423572</td>\n",
       "    </tr>\n",
       "    <tr>\n",
       "      <th>307</th>\n",
       "      <td>8473994.0</td>\n",
       "      <td>Jamie Benn</td>\n",
       "      <td>553</td>\n",
       "      <td>53.048215</td>\n",
       "      <td>40</td>\n",
       "      <td>-13.048215</td>\n",
       "      <td>0.072333</td>\n",
       "      <td>0.095928</td>\n",
       "      <td>-13.048215</td>\n",
       "    </tr>\n",
       "    <tr>\n",
       "      <th>563</th>\n",
       "      <td>8475786.0</td>\n",
       "      <td>Zach Hyman</td>\n",
       "      <td>475</td>\n",
       "      <td>51.695206</td>\n",
       "      <td>42</td>\n",
       "      <td>-9.695206</td>\n",
       "      <td>0.088421</td>\n",
       "      <td>0.108832</td>\n",
       "      <td>-9.695206</td>\n",
       "    </tr>\n",
       "    <tr>\n",
       "      <th>497</th>\n",
       "      <td>8475314.0</td>\n",
       "      <td>Anders Lee</td>\n",
       "      <td>490</td>\n",
       "      <td>51.563824</td>\n",
       "      <td>64</td>\n",
       "      <td>12.436176</td>\n",
       "      <td>0.130612</td>\n",
       "      <td>0.105232</td>\n",
       "      <td>12.436176</td>\n",
       "    </tr>\n",
       "    <tr>\n",
       "      <th>873</th>\n",
       "      <td>8477404.0</td>\n",
       "      <td>Jake Guentzel</td>\n",
       "      <td>493</td>\n",
       "      <td>51.402366</td>\n",
       "      <td>58</td>\n",
       "      <td>6.597634</td>\n",
       "      <td>0.117647</td>\n",
       "      <td>0.104264</td>\n",
       "      <td>6.597634</td>\n",
       "    </tr>\n",
       "    <tr>\n",
       "      <th>150</th>\n",
       "      <td>8470794.0</td>\n",
       "      <td>Joe Pavelski</td>\n",
       "      <td>559</td>\n",
       "      <td>51.108127</td>\n",
       "      <td>57</td>\n",
       "      <td>5.891873</td>\n",
       "      <td>0.101968</td>\n",
       "      <td>0.091428</td>\n",
       "      <td>5.891873</td>\n",
       "    </tr>\n",
       "  </tbody>\n",
       "</table>\n",
       "</div>"
      ],
      "text/plain": [
       "      shooterPlayerId       shooterName  total_shots   total_xG  actual_goals  \\\n",
       "439         8475166.0      John Tavares          646  66.070978            69   \n",
       "1085        8478402.0    Connor McDavid          672  65.032495            77   \n",
       "1212        8479318.0   Auston Matthews          712  62.651813            84   \n",
       "162         8471214.0     Alex Ovechkin          832  62.646743            85   \n",
       "976         8477934.0    Leon Draisaitl          593  59.186339            80   \n",
       "997         8477956.0    David Pastrnak          768  58.925635            74   \n",
       "924         8477492.0  Nathan MacKinnon          825  58.906064            78   \n",
       "207         8471675.0     Sidney Crosby          619  57.246991            62   \n",
       "1099        8478427.0     Sebastian Aho          536  56.540369            52   \n",
       "975         8477933.0      Sam Reinhart          551  54.576428            63   \n",
       "307         8473994.0        Jamie Benn          553  53.048215            40   \n",
       "563         8475786.0        Zach Hyman          475  51.695206            42   \n",
       "497         8475314.0        Anders Lee          490  51.563824            64   \n",
       "873         8477404.0     Jake Guentzel          493  51.402366            58   \n",
       "150         8470794.0      Joe Pavelski          559  51.108127            57   \n",
       "\n",
       "      goals_minus_xG  goals_per_shot  xg_per_shot  finishing_plus_minus  \n",
       "439         2.929022        0.106811     0.102277              2.929022  \n",
       "1085       11.967505        0.114583     0.096775             11.967505  \n",
       "1212       21.348187        0.117978     0.087994             21.348187  \n",
       "162        22.353257        0.102163     0.075297             22.353257  \n",
       "976        20.813661        0.134907     0.099808             20.813661  \n",
       "997        15.074365        0.096354     0.076726             15.074365  \n",
       "924        19.093936        0.094545     0.071401             19.093936  \n",
       "207         4.753009        0.100162     0.092483              4.753009  \n",
       "1099       -4.540369        0.097015     0.105486             -4.540369  \n",
       "975         8.423572        0.114338     0.099050              8.423572  \n",
       "307       -13.048215        0.072333     0.095928            -13.048215  \n",
       "563        -9.695206        0.088421     0.108832             -9.695206  \n",
       "497        12.436176        0.130612     0.105232             12.436176  \n",
       "873         6.597634        0.117647     0.104264              6.597634  \n",
       "150         5.891873        0.101968     0.091428              5.891873  "
      ]
     },
     "execution_count": 104,
     "metadata": {},
     "output_type": "execute_result"
    }
   ],
   "source": [
    "player_xg.sort_values(\"goals_minus_xG\", ascending=False).head(15)\n",
    "\n",
    "player_xg.sort_values(\"total_xG\", ascending=False).head(15)"
   ]
  },
  {
   "cell_type": "markdown",
   "id": "4308b75d",
   "metadata": {},
   "source": [
    "A distribution of all points showing expected goals vs. actual goals. \n",
    "\n",
    "There are a few outliers around the 60-goal mark, but those are expected for the elite snipers in the league."
   ]
  },
  {
   "cell_type": "code",
   "execution_count": 105,
   "id": "b85b143c",
   "metadata": {},
   "outputs": [
    {
     "data": {
      "image/png": "[encoded data removed]",
      "text/plain": [
       "<Figure size 432x288 with 1 Axes>"
      ]
     },
     "metadata": {
      "needs_background": "light"
     },
     "output_type": "display_data"
    }
   ],
   "source": [
    "ax = player_xg.plot.scatter(x=\"total_xG\", y=\"actual_goals\", alpha=0.6)\n",
    "lims = [0, max(player_xg[[\"total_xG\",\"actual_goals\"]].max())]\n",
    "ax.plot(lims, lims, linestyle=\"--\")  # y=x line\n",
    "ax.set_xlabel(\"Total xG\"); ax.set_ylabel(\"Actual Goals\"); ax.set_title(\"Finishing vs Expected\")\n",
    "plt.show()"
   ]
  },
  {
   "cell_type": "markdown",
   "id": "2e54f757",
   "metadata": {},
   "source": [
    "Since the dataset contains data from 2015-2023, I wanted group the data by season and player to see how the model has performed across each season."
   ]
  },
  {
   "cell_type": "code",
   "execution_count": 111,
   "id": "65d551c2",
   "metadata": {},
   "outputs": [
    {
     "data": {
      "text/html": [
       "<div>\n",
       "<style scoped>\n",
       "    .dataframe tbody tr th:only-of-type {\n",
       "        vertical-align: middle;\n",
       "    }\n",
       "\n",
       "    .dataframe tbody tr th {\n",
       "        vertical-align: top;\n",
       "    }\n",
       "\n",
       "    .dataframe thead th {\n",
       "        text-align: right;\n",
       "    }\n",
       "</style>\n",
       "<table border=\"1\" class=\"dataframe\">\n",
       "  <thead>\n",
       "    <tr style=\"text-align: right;\">\n",
       "      <th></th>\n",
       "      <th>season</th>\n",
       "      <th>shooterPlayerId</th>\n",
       "      <th>shooterName</th>\n",
       "      <th>total_shots</th>\n",
       "      <th>total_xG</th>\n",
       "      <th>actual_goals</th>\n",
       "      <th>goals_minus_xG</th>\n",
       "      <th>Shot%</th>\n",
       "      <th>xShot%</th>\n",
       "    </tr>\n",
       "  </thead>\n",
       "  <tbody>\n",
       "    <tr>\n",
       "      <th>0</th>\n",
       "      <td>2015</td>\n",
       "      <td>8448208.0</td>\n",
       "      <td>Jaromir Jagr</td>\n",
       "      <td>40</td>\n",
       "      <td>4.126122</td>\n",
       "      <td>6</td>\n",
       "      <td>1.873878</td>\n",
       "      <td>0.150</td>\n",
       "      <td>0.103153</td>\n",
       "    </tr>\n",
       "    <tr>\n",
       "      <th>1</th>\n",
       "      <td>2015</td>\n",
       "      <td>8460542.0</td>\n",
       "      <td>Patrik Elias</td>\n",
       "      <td>6</td>\n",
       "      <td>0.855706</td>\n",
       "      <td>0</td>\n",
       "      <td>-0.855706</td>\n",
       "      <td>0.000</td>\n",
       "      <td>0.142618</td>\n",
       "    </tr>\n",
       "    <tr>\n",
       "      <th>2</th>\n",
       "      <td>2015</td>\n",
       "      <td>8462038.0</td>\n",
       "      <td>Shane Doan</td>\n",
       "      <td>56</td>\n",
       "      <td>4.727923</td>\n",
       "      <td>7</td>\n",
       "      <td>2.272077</td>\n",
       "      <td>0.125</td>\n",
       "      <td>0.084427</td>\n",
       "    </tr>\n",
       "    <tr>\n",
       "      <th>3</th>\n",
       "      <td>2015</td>\n",
       "      <td>8462042.0</td>\n",
       "      <td>Jarome Iginla</td>\n",
       "      <td>48</td>\n",
       "      <td>4.184557</td>\n",
       "      <td>6</td>\n",
       "      <td>1.815443</td>\n",
       "      <td>0.125</td>\n",
       "      <td>0.087178</td>\n",
       "    </tr>\n",
       "    <tr>\n",
       "      <th>4</th>\n",
       "      <td>2015</td>\n",
       "      <td>8464977.0</td>\n",
       "      <td>Dainius Zubrus</td>\n",
       "      <td>14</td>\n",
       "      <td>1.008121</td>\n",
       "      <td>0</td>\n",
       "      <td>-1.008121</td>\n",
       "      <td>0.000</td>\n",
       "      <td>0.072009</td>\n",
       "    </tr>\n",
       "    <tr>\n",
       "      <th>...</th>\n",
       "      <td>...</td>\n",
       "      <td>...</td>\n",
       "      <td>...</td>\n",
       "      <td>...</td>\n",
       "      <td>...</td>\n",
       "      <td>...</td>\n",
       "      <td>...</td>\n",
       "      <td>...</td>\n",
       "      <td>...</td>\n",
       "    </tr>\n",
       "    <tr>\n",
       "      <th>7643</th>\n",
       "      <td>2023</td>\n",
       "      <td>8484304.0</td>\n",
       "      <td>Uvis Balinskis</td>\n",
       "      <td>4</td>\n",
       "      <td>0.224000</td>\n",
       "      <td>1</td>\n",
       "      <td>0.776000</td>\n",
       "      <td>0.250</td>\n",
       "      <td>0.056000</td>\n",
       "    </tr>\n",
       "    <tr>\n",
       "      <th>7644</th>\n",
       "      <td>2023</td>\n",
       "      <td>8484314.0</td>\n",
       "      <td>Jiri Smejkal</td>\n",
       "      <td>5</td>\n",
       "      <td>0.253191</td>\n",
       "      <td>0</td>\n",
       "      <td>-0.253191</td>\n",
       "      <td>0.000</td>\n",
       "      <td>0.050638</td>\n",
       "    </tr>\n",
       "    <tr>\n",
       "      <th>7645</th>\n",
       "      <td>2023</td>\n",
       "      <td>8484321.0</td>\n",
       "      <td>Nikolas Matinpalo</td>\n",
       "      <td>1</td>\n",
       "      <td>0.012098</td>\n",
       "      <td>0</td>\n",
       "      <td>-0.012098</td>\n",
       "      <td>0.000</td>\n",
       "      <td>0.012098</td>\n",
       "    </tr>\n",
       "    <tr>\n",
       "      <th>7646</th>\n",
       "      <td>2023</td>\n",
       "      <td>8484325.0</td>\n",
       "      <td>Waltteri Merela</td>\n",
       "      <td>4</td>\n",
       "      <td>0.344597</td>\n",
       "      <td>0</td>\n",
       "      <td>-0.344597</td>\n",
       "      <td>0.000</td>\n",
       "      <td>0.086149</td>\n",
       "    </tr>\n",
       "    <tr>\n",
       "      <th>7647</th>\n",
       "      <td>2023</td>\n",
       "      <td>8484911.0</td>\n",
       "      <td>Collin Graf</td>\n",
       "      <td>2</td>\n",
       "      <td>0.180586</td>\n",
       "      <td>0</td>\n",
       "      <td>-0.180586</td>\n",
       "      <td>0.000</td>\n",
       "      <td>0.090293</td>\n",
       "    </tr>\n",
       "  </tbody>\n",
       "</table>\n",
       "<p>7648 rows × 9 columns</p>\n",
       "</div>"
      ],
      "text/plain": [
       "      season  shooterPlayerId        shooterName  total_shots  total_xG  \\\n",
       "0       2015        8448208.0       Jaromir Jagr           40  4.126122   \n",
       "1       2015        8460542.0       Patrik Elias            6  0.855706   \n",
       "2       2015        8462038.0         Shane Doan           56  4.727923   \n",
       "3       2015        8462042.0      Jarome Iginla           48  4.184557   \n",
       "4       2015        8464977.0     Dainius Zubrus           14  1.008121   \n",
       "...      ...              ...                ...          ...       ...   \n",
       "7643    2023        8484304.0     Uvis Balinskis            4  0.224000   \n",
       "7644    2023        8484314.0       Jiri Smejkal            5  0.253191   \n",
       "7645    2023        8484321.0  Nikolas Matinpalo            1  0.012098   \n",
       "7646    2023        8484325.0    Waltteri Merela            4  0.344597   \n",
       "7647    2023        8484911.0        Collin Graf            2  0.180586   \n",
       "\n",
       "      actual_goals  goals_minus_xG  Shot%    xShot%  \n",
       "0                6        1.873878  0.150  0.103153  \n",
       "1                0       -0.855706  0.000  0.142618  \n",
       "2                7        2.272077  0.125  0.084427  \n",
       "3                6        1.815443  0.125  0.087178  \n",
       "4                0       -1.008121  0.000  0.072009  \n",
       "...            ...             ...    ...       ...  \n",
       "7643             1        0.776000  0.250  0.056000  \n",
       "7644             0       -0.253191  0.000  0.050638  \n",
       "7645             0       -0.012098  0.000  0.012098  \n",
       "7646             0       -0.344597  0.000  0.086149  \n",
       "7647             0       -0.180586  0.000  0.090293  \n",
       "\n",
       "[7648 rows x 9 columns]"
      ]
     },
     "execution_count": 111,
     "metadata": {},
     "output_type": "execute_result"
    }
   ],
   "source": [
    "per_season = (\n",
    "    df_test.groupby([\"season\",\"shooterPlayerId\",\"shooterName\"])\n",
    "           .agg(total_shots=(\"xG\",\"count\"),\n",
    "                total_xG=(\"xG\",\"sum\"),\n",
    "                actual_goals=(\"goal\",\"sum\"))\n",
    "           .reset_index()\n",
    ")\n",
    "per_season[\"goals_minus_xG\"] = per_season.actual_goals - per_season.total_xG\n",
    "per_season[\"Shot%\"] = per_season.actual_goals / per_season.total_shots\n",
    "per_season[\"xShot%\"] = per_season.total_xG / per_season.total_shots\n",
    "per_season"
   ]
  },
  {
   "cell_type": "markdown",
   "id": "e364eb26",
   "metadata": {},
   "source": [
    "First, I want to look at the top individual seasons the model had. "
   ]
  },
  {
   "cell_type": "code",
   "execution_count": 123,
   "id": "466e5460",
   "metadata": {
    "scrolled": false
   },
   "outputs": [
    {
     "data": {
      "text/html": [
       "<div>\n",
       "<style scoped>\n",
       "    .dataframe tbody tr th:only-of-type {\n",
       "        vertical-align: middle;\n",
       "    }\n",
       "\n",
       "    .dataframe tbody tr th {\n",
       "        vertical-align: top;\n",
       "    }\n",
       "\n",
       "    .dataframe thead th {\n",
       "        text-align: right;\n",
       "    }\n",
       "</style>\n",
       "<table border=\"1\" class=\"dataframe\">\n",
       "  <thead>\n",
       "    <tr style=\"text-align: right;\">\n",
       "      <th></th>\n",
       "      <th>season</th>\n",
       "      <th>shooterPlayerId</th>\n",
       "      <th>shooterName</th>\n",
       "      <th>total_shots</th>\n",
       "      <th>total_xG</th>\n",
       "      <th>actual_goals</th>\n",
       "      <th>goals_minus_xG</th>\n",
       "      <th>Shot%</th>\n",
       "      <th>xShot%</th>\n",
       "    </tr>\n",
       "  </thead>\n",
       "  <tbody>\n",
       "    <tr>\n",
       "      <th>7089</th>\n",
       "      <td>2023</td>\n",
       "      <td>8477933.0</td>\n",
       "      <td>Sam Reinhart</td>\n",
       "      <td>118</td>\n",
       "      <td>12.751653</td>\n",
       "      <td>16</td>\n",
       "      <td>3.248347</td>\n",
       "      <td>0.135593</td>\n",
       "      <td>0.108065</td>\n",
       "    </tr>\n",
       "    <tr>\n",
       "      <th>6906</th>\n",
       "      <td>2023</td>\n",
       "      <td>8475786.0</td>\n",
       "      <td>Zach Hyman</td>\n",
       "      <td>95</td>\n",
       "      <td>11.652453</td>\n",
       "      <td>14</td>\n",
       "      <td>2.347547</td>\n",
       "      <td>0.147368</td>\n",
       "      <td>0.122657</td>\n",
       "    </tr>\n",
       "    <tr>\n",
       "      <th>158</th>\n",
       "      <td>2015</td>\n",
       "      <td>8471214.0</td>\n",
       "      <td>Alex Ovechkin</td>\n",
       "      <td>139</td>\n",
       "      <td>11.639597</td>\n",
       "      <td>16</td>\n",
       "      <td>4.360403</td>\n",
       "      <td>0.115108</td>\n",
       "      <td>0.083738</td>\n",
       "    </tr>\n",
       "    <tr>\n",
       "      <th>7224</th>\n",
       "      <td>2023</td>\n",
       "      <td>8479318.0</td>\n",
       "      <td>Auston Matthews</td>\n",
       "      <td>109</td>\n",
       "      <td>11.297213</td>\n",
       "      <td>12</td>\n",
       "      <td>0.702787</td>\n",
       "      <td>0.110092</td>\n",
       "      <td>0.103644</td>\n",
       "    </tr>\n",
       "    <tr>\n",
       "      <th>6321</th>\n",
       "      <td>2022</td>\n",
       "      <td>8478402.0</td>\n",
       "      <td>Connor McDavid</td>\n",
       "      <td>110</td>\n",
       "      <td>10.937326</td>\n",
       "      <td>21</td>\n",
       "      <td>10.062674</td>\n",
       "      <td>0.190909</td>\n",
       "      <td>0.099430</td>\n",
       "    </tr>\n",
       "    <tr>\n",
       "      <th>5555</th>\n",
       "      <td>2021</td>\n",
       "      <td>8479318.0</td>\n",
       "      <td>Auston Matthews</td>\n",
       "      <td>131</td>\n",
       "      <td>10.675064</td>\n",
       "      <td>15</td>\n",
       "      <td>4.324936</td>\n",
       "      <td>0.114504</td>\n",
       "      <td>0.081489</td>\n",
       "    </tr>\n",
       "    <tr>\n",
       "      <th>5466</th>\n",
       "      <td>2021</td>\n",
       "      <td>8478402.0</td>\n",
       "      <td>Connor McDavid</td>\n",
       "      <td>103</td>\n",
       "      <td>10.613999</td>\n",
       "      <td>10</td>\n",
       "      <td>-0.613999</td>\n",
       "      <td>0.097087</td>\n",
       "      <td>0.103049</td>\n",
       "    </tr>\n",
       "    <tr>\n",
       "      <th>7221</th>\n",
       "      <td>2023</td>\n",
       "      <td>8479314.0</td>\n",
       "      <td>Matthew Tkachuk</td>\n",
       "      <td>107</td>\n",
       "      <td>10.317357</td>\n",
       "      <td>9</td>\n",
       "      <td>-1.317357</td>\n",
       "      <td>0.084112</td>\n",
       "      <td>0.096424</td>\n",
       "    </tr>\n",
       "    <tr>\n",
       "      <th>6576</th>\n",
       "      <td>2022</td>\n",
       "      <td>8480801.0</td>\n",
       "      <td>Brady Tkachuk</td>\n",
       "      <td>105</td>\n",
       "      <td>10.233456</td>\n",
       "      <td>11</td>\n",
       "      <td>0.766544</td>\n",
       "      <td>0.104762</td>\n",
       "      <td>0.097461</td>\n",
       "    </tr>\n",
       "    <tr>\n",
       "      <th>7106</th>\n",
       "      <td>2023</td>\n",
       "      <td>8477956.0</td>\n",
       "      <td>David Pastrnak</td>\n",
       "      <td>118</td>\n",
       "      <td>10.054508</td>\n",
       "      <td>10</td>\n",
       "      <td>-0.054508</td>\n",
       "      <td>0.084746</td>\n",
       "      <td>0.085208</td>\n",
       "    </tr>\n",
       "    <tr>\n",
       "      <th>6330</th>\n",
       "      <td>2022</td>\n",
       "      <td>8478420.0</td>\n",
       "      <td>Mikko Rantanen</td>\n",
       "      <td>100</td>\n",
       "      <td>10.009890</td>\n",
       "      <td>18</td>\n",
       "      <td>7.990110</td>\n",
       "      <td>0.180000</td>\n",
       "      <td>0.100099</td>\n",
       "    </tr>\n",
       "    <tr>\n",
       "      <th>6052</th>\n",
       "      <td>2022</td>\n",
       "      <td>8475786.0</td>\n",
       "      <td>Zach Hyman</td>\n",
       "      <td>86</td>\n",
       "      <td>9.979397</td>\n",
       "      <td>6</td>\n",
       "      <td>-3.979397</td>\n",
       "      <td>0.069767</td>\n",
       "      <td>0.116039</td>\n",
       "    </tr>\n",
       "    <tr>\n",
       "      <th>6284</th>\n",
       "      <td>2022</td>\n",
       "      <td>8478010.0</td>\n",
       "      <td>Brayden Point</td>\n",
       "      <td>81</td>\n",
       "      <td>9.833970</td>\n",
       "      <td>18</td>\n",
       "      <td>8.166030</td>\n",
       "      <td>0.222222</td>\n",
       "      <td>0.121407</td>\n",
       "    </tr>\n",
       "    <tr>\n",
       "      <th>3914</th>\n",
       "      <td>2019</td>\n",
       "      <td>8478427.0</td>\n",
       "      <td>Sebastian Aho</td>\n",
       "      <td>70</td>\n",
       "      <td>9.800251</td>\n",
       "      <td>10</td>\n",
       "      <td>0.199749</td>\n",
       "      <td>0.142857</td>\n",
       "      <td>0.140004</td>\n",
       "    </tr>\n",
       "    <tr>\n",
       "      <th>6986</th>\n",
       "      <td>2023</td>\n",
       "      <td>8476887.0</td>\n",
       "      <td>Filip Forsberg</td>\n",
       "      <td>114</td>\n",
       "      <td>9.770548</td>\n",
       "      <td>11</td>\n",
       "      <td>1.229452</td>\n",
       "      <td>0.096491</td>\n",
       "      <td>0.085707</td>\n",
       "    </tr>\n",
       "  </tbody>\n",
       "</table>\n",
       "</div>"
      ],
      "text/plain": [
       "      season  shooterPlayerId      shooterName  total_shots   total_xG  \\\n",
       "7089    2023        8477933.0     Sam Reinhart          118  12.751653   \n",
       "6906    2023        8475786.0       Zach Hyman           95  11.652453   \n",
       "158     2015        8471214.0    Alex Ovechkin          139  11.639597   \n",
       "7224    2023        8479318.0  Auston Matthews          109  11.297213   \n",
       "6321    2022        8478402.0   Connor McDavid          110  10.937326   \n",
       "5555    2021        8479318.0  Auston Matthews          131  10.675064   \n",
       "5466    2021        8478402.0   Connor McDavid          103  10.613999   \n",
       "7221    2023        8479314.0  Matthew Tkachuk          107  10.317357   \n",
       "6576    2022        8480801.0    Brady Tkachuk          105  10.233456   \n",
       "7106    2023        8477956.0   David Pastrnak          118  10.054508   \n",
       "6330    2022        8478420.0   Mikko Rantanen          100  10.009890   \n",
       "6052    2022        8475786.0       Zach Hyman           86   9.979397   \n",
       "6284    2022        8478010.0    Brayden Point           81   9.833970   \n",
       "3914    2019        8478427.0    Sebastian Aho           70   9.800251   \n",
       "6986    2023        8476887.0   Filip Forsberg          114   9.770548   \n",
       "\n",
       "      actual_goals  goals_minus_xG     Shot%    xShot%  \n",
       "7089            16        3.248347  0.135593  0.108065  \n",
       "6906            14        2.347547  0.147368  0.122657  \n",
       "158             16        4.360403  0.115108  0.083738  \n",
       "7224            12        0.702787  0.110092  0.103644  \n",
       "6321            21       10.062674  0.190909  0.099430  \n",
       "5555            15        4.324936  0.114504  0.081489  \n",
       "5466            10       -0.613999  0.097087  0.103049  \n",
       "7221             9       -1.317357  0.084112  0.096424  \n",
       "6576            11        0.766544  0.104762  0.097461  \n",
       "7106            10       -0.054508  0.084746  0.085208  \n",
       "6330            18        7.990110  0.180000  0.100099  \n",
       "6052             6       -3.979397  0.069767  0.116039  \n",
       "6284            18        8.166030  0.222222  0.121407  \n",
       "3914            10        0.199749  0.142857  0.140004  \n",
       "6986            11        1.229452  0.096491  0.085707  "
      ]
     },
     "execution_count": 123,
     "metadata": {},
     "output_type": "execute_result"
    }
   ],
   "source": [
    "per_season.sort_values(\"total_xG\", ascending=False).head(15)"
   ]
  },
  {
   "cell_type": "markdown",
   "id": "9593436f",
   "metadata": {},
   "source": [
    "It had Sam Reinhart's 2023 season as the top-scoring season. Out of 118 total shots, Reinhart generated 12.75 xG while scoring 16 goals. Reinhart scored 42 goals in 2023, which was the 12th highest in the league in that span. He also had the 8th highest shooting percentage in the entire NHL in that span, which is why the difference between his `actual_goals` and `total_xG` is relatively high."
   ]
  },
  {
   "cell_type": "code",
   "execution_count": 129,
   "id": "f00a8d99",
   "metadata": {
    "scrolled": false
   },
   "outputs": [
    {
     "data": {
      "text/html": [
       "<div>\n",
       "<style scoped>\n",
       "    .dataframe tbody tr th:only-of-type {\n",
       "        vertical-align: middle;\n",
       "    }\n",
       "\n",
       "    .dataframe tbody tr th {\n",
       "        vertical-align: top;\n",
       "    }\n",
       "\n",
       "    .dataframe thead th {\n",
       "        text-align: right;\n",
       "    }\n",
       "</style>\n",
       "<table border=\"1\" class=\"dataframe\">\n",
       "  <thead>\n",
       "    <tr style=\"text-align: right;\">\n",
       "      <th></th>\n",
       "      <th>season</th>\n",
       "      <th>shooterPlayerId</th>\n",
       "      <th>shooterName</th>\n",
       "      <th>total_shots</th>\n",
       "      <th>total_xG</th>\n",
       "      <th>actual_goals</th>\n",
       "      <th>goals_minus_xG</th>\n",
       "      <th>Shot%</th>\n",
       "      <th>xShot%</th>\n",
       "      <th>abs_diff</th>\n",
       "    </tr>\n",
       "  </thead>\n",
       "  <tbody>\n",
       "    <tr>\n",
       "      <th>6321</th>\n",
       "      <td>2022</td>\n",
       "      <td>8478402.0</td>\n",
       "      <td>Connor McDavid</td>\n",
       "      <td>110</td>\n",
       "      <td>10.937326</td>\n",
       "      <td>21</td>\n",
       "      <td>10.062674</td>\n",
       "      <td>0.190909</td>\n",
       "      <td>0.099430</td>\n",
       "      <td>10.062674</td>\n",
       "    </tr>\n",
       "    <tr>\n",
       "      <th>2861</th>\n",
       "      <td>2018</td>\n",
       "      <td>8476453.0</td>\n",
       "      <td>Nikita Kucherov</td>\n",
       "      <td>90</td>\n",
       "      <td>6.368691</td>\n",
       "      <td>16</td>\n",
       "      <td>9.631309</td>\n",
       "      <td>0.177778</td>\n",
       "      <td>0.070763</td>\n",
       "      <td>9.631309</td>\n",
       "    </tr>\n",
       "    <tr>\n",
       "      <th>6284</th>\n",
       "      <td>2022</td>\n",
       "      <td>8478010.0</td>\n",
       "      <td>Brayden Point</td>\n",
       "      <td>81</td>\n",
       "      <td>9.833970</td>\n",
       "      <td>18</td>\n",
       "      <td>8.166030</td>\n",
       "      <td>0.222222</td>\n",
       "      <td>0.121407</td>\n",
       "      <td>8.166030</td>\n",
       "    </tr>\n",
       "    <tr>\n",
       "      <th>6330</th>\n",
       "      <td>2022</td>\n",
       "      <td>8478420.0</td>\n",
       "      <td>Mikko Rantanen</td>\n",
       "      <td>100</td>\n",
       "      <td>10.009890</td>\n",
       "      <td>18</td>\n",
       "      <td>7.990110</td>\n",
       "      <td>0.180000</td>\n",
       "      <td>0.100099</td>\n",
       "      <td>7.990110</td>\n",
       "    </tr>\n",
       "    <tr>\n",
       "      <th>5113</th>\n",
       "      <td>2021</td>\n",
       "      <td>8475169.0</td>\n",
       "      <td>Evander Kane</td>\n",
       "      <td>64</td>\n",
       "      <td>7.037254</td>\n",
       "      <td>15</td>\n",
       "      <td>7.962746</td>\n",
       "      <td>0.234375</td>\n",
       "      <td>0.109957</td>\n",
       "      <td>7.962746</td>\n",
       "    </tr>\n",
       "    <tr>\n",
       "      <th>3078</th>\n",
       "      <td>2018</td>\n",
       "      <td>8477956.0</td>\n",
       "      <td>David Pastrnak</td>\n",
       "      <td>86</td>\n",
       "      <td>6.279680</td>\n",
       "      <td>14</td>\n",
       "      <td>7.720320</td>\n",
       "      <td>0.162791</td>\n",
       "      <td>0.073020</td>\n",
       "      <td>7.720320</td>\n",
       "    </tr>\n",
       "    <tr>\n",
       "      <th>6255</th>\n",
       "      <td>2022</td>\n",
       "      <td>8477934.0</td>\n",
       "      <td>Leon Draisaitl</td>\n",
       "      <td>78</td>\n",
       "      <td>7.303627</td>\n",
       "      <td>15</td>\n",
       "      <td>7.696373</td>\n",
       "      <td>0.192308</td>\n",
       "      <td>0.093636</td>\n",
       "      <td>7.696373</td>\n",
       "    </tr>\n",
       "    <tr>\n",
       "      <th>6271</th>\n",
       "      <td>2022</td>\n",
       "      <td>8477955.0</td>\n",
       "      <td>Jared McCann</td>\n",
       "      <td>61</td>\n",
       "      <td>4.316013</td>\n",
       "      <td>12</td>\n",
       "      <td>7.683987</td>\n",
       "      <td>0.196721</td>\n",
       "      <td>0.070754</td>\n",
       "      <td>7.683987</td>\n",
       "    </tr>\n",
       "    <tr>\n",
       "      <th>2270</th>\n",
       "      <td>2017</td>\n",
       "      <td>8477492.0</td>\n",
       "      <td>Nathan MacKinnon</td>\n",
       "      <td>96</td>\n",
       "      <td>6.351727</td>\n",
       "      <td>14</td>\n",
       "      <td>7.648273</td>\n",
       "      <td>0.145833</td>\n",
       "      <td>0.066164</td>\n",
       "      <td>7.648273</td>\n",
       "    </tr>\n",
       "    <tr>\n",
       "      <th>978</th>\n",
       "      <td>2016</td>\n",
       "      <td>8471698.0</td>\n",
       "      <td>T.J. Oshie</td>\n",
       "      <td>48</td>\n",
       "      <td>4.408430</td>\n",
       "      <td>12</td>\n",
       "      <td>7.591570</td>\n",
       "      <td>0.250000</td>\n",
       "      <td>0.091842</td>\n",
       "      <td>7.591570</td>\n",
       "    </tr>\n",
       "    <tr>\n",
       "      <th>6339</th>\n",
       "      <td>2022</td>\n",
       "      <td>8478439.0</td>\n",
       "      <td>Travis Konecny</td>\n",
       "      <td>51</td>\n",
       "      <td>3.622619</td>\n",
       "      <td>11</td>\n",
       "      <td>7.377381</td>\n",
       "      <td>0.215686</td>\n",
       "      <td>0.071032</td>\n",
       "      <td>7.377381</td>\n",
       "    </tr>\n",
       "    <tr>\n",
       "      <th>1868</th>\n",
       "      <td>2017</td>\n",
       "      <td>8474564.0</td>\n",
       "      <td>Steven Stamkos</td>\n",
       "      <td>79</td>\n",
       "      <td>6.704596</td>\n",
       "      <td>14</td>\n",
       "      <td>7.295404</td>\n",
       "      <td>0.177215</td>\n",
       "      <td>0.084868</td>\n",
       "      <td>7.295404</td>\n",
       "    </tr>\n",
       "    <tr>\n",
       "      <th>3834</th>\n",
       "      <td>2019</td>\n",
       "      <td>8477934.0</td>\n",
       "      <td>Leon Draisaitl</td>\n",
       "      <td>64</td>\n",
       "      <td>6.118871</td>\n",
       "      <td>13</td>\n",
       "      <td>6.881129</td>\n",
       "      <td>0.203125</td>\n",
       "      <td>0.095607</td>\n",
       "      <td>6.881129</td>\n",
       "    </tr>\n",
       "    <tr>\n",
       "      <th>7311</th>\n",
       "      <td>2023</td>\n",
       "      <td>8480012.0</td>\n",
       "      <td>Elias Pettersson</td>\n",
       "      <td>74</td>\n",
       "      <td>7.340312</td>\n",
       "      <td>14</td>\n",
       "      <td>6.659688</td>\n",
       "      <td>0.189189</td>\n",
       "      <td>0.099193</td>\n",
       "      <td>6.659688</td>\n",
       "    </tr>\n",
       "    <tr>\n",
       "      <th>968</th>\n",
       "      <td>2016</td>\n",
       "      <td>8471675.0</td>\n",
       "      <td>Sidney Crosby</td>\n",
       "      <td>83</td>\n",
       "      <td>7.587774</td>\n",
       "      <td>14</td>\n",
       "      <td>6.412226</td>\n",
       "      <td>0.168675</td>\n",
       "      <td>0.091419</td>\n",
       "      <td>6.412226</td>\n",
       "    </tr>\n",
       "  </tbody>\n",
       "</table>\n",
       "</div>"
      ],
      "text/plain": [
       "      season  shooterPlayerId       shooterName  total_shots   total_xG  \\\n",
       "6321    2022        8478402.0    Connor McDavid          110  10.937326   \n",
       "2861    2018        8476453.0   Nikita Kucherov           90   6.368691   \n",
       "6284    2022        8478010.0     Brayden Point           81   9.833970   \n",
       "6330    2022        8478420.0    Mikko Rantanen          100  10.009890   \n",
       "5113    2021        8475169.0      Evander Kane           64   7.037254   \n",
       "3078    2018        8477956.0    David Pastrnak           86   6.279680   \n",
       "6255    2022        8477934.0    Leon Draisaitl           78   7.303627   \n",
       "6271    2022        8477955.0      Jared McCann           61   4.316013   \n",
       "2270    2017        8477492.0  Nathan MacKinnon           96   6.351727   \n",
       "978     2016        8471698.0        T.J. Oshie           48   4.408430   \n",
       "6339    2022        8478439.0    Travis Konecny           51   3.622619   \n",
       "1868    2017        8474564.0    Steven Stamkos           79   6.704596   \n",
       "3834    2019        8477934.0    Leon Draisaitl           64   6.118871   \n",
       "7311    2023        8480012.0  Elias Pettersson           74   7.340312   \n",
       "968     2016        8471675.0     Sidney Crosby           83   7.587774   \n",
       "\n",
       "      actual_goals  goals_minus_xG     Shot%    xShot%   abs_diff  \n",
       "6321            21       10.062674  0.190909  0.099430  10.062674  \n",
       "2861            16        9.631309  0.177778  0.070763   9.631309  \n",
       "6284            18        8.166030  0.222222  0.121407   8.166030  \n",
       "6330            18        7.990110  0.180000  0.100099   7.990110  \n",
       "5113            15        7.962746  0.234375  0.109957   7.962746  \n",
       "3078            14        7.720320  0.162791  0.073020   7.720320  \n",
       "6255            15        7.696373  0.192308  0.093636   7.696373  \n",
       "6271            12        7.683987  0.196721  0.070754   7.683987  \n",
       "2270            14        7.648273  0.145833  0.066164   7.648273  \n",
       "978             12        7.591570  0.250000  0.091842   7.591570  \n",
       "6339            11        7.377381  0.215686  0.071032   7.377381  \n",
       "1868            14        7.295404  0.177215  0.084868   7.295404  \n",
       "3834            13        6.881129  0.203125  0.095607   6.881129  \n",
       "7311            14        6.659688  0.189189  0.099193   6.659688  \n",
       "968             14        6.412226  0.168675  0.091419   6.412226  "
      ]
     },
     "execution_count": 129,
     "metadata": {},
     "output_type": "execute_result"
    }
   ],
   "source": [
    "per_season['abs_diff'] = per_season['goals_minus_xG'].abs()\n",
    "top_15 = per_season.sort_values(\"abs_diff\", ascending=False).head(15)\n",
    "top_15[\"Shot%\"] = top_15.actual_goals / top_15.total_shots\n",
    "top_15[\"xShot%\"] = top_15.total_xG / top_15.total_shots\n",
    "top_15"
   ]
  },
  {
   "cell_type": "markdown",
   "id": "14c2f987",
   "metadata": {},
   "source": [
    "I want to visualize the players that caused the highest discrepancy between goals and xG. Most of the players on this chart are ones that had elite seasons like McDavid in 2022 and Leon Draisaitl in 2019 and 2022. \n",
    "\n",
    "Looking at the shooting percentage (`Shot%`) and expected shooting percentage (`xShot%`) for each player, we can see there is a large difference bewtween a majority of these values. Some of these players, like TJ Oshie in 2016 and Evander Kane in 2021, had very high shooting percentages at well over 20%. \n",
    "\n",
    "There are many factors that cause a high shooting percentage that the model cannot account for, like traffic in front of goal and the puck movement leading up to the goal. "
   ]
  },
  {
   "cell_type": "code",
   "execution_count": 133,
   "id": "48ab58b5",
   "metadata": {
    "scrolled": false
   },
   "outputs": [
    {
     "data": {
      "application/vnd.plotly.v1+json": {
       "config": {
        "plotlyServerURL": "https://plot.ly"
       },
       "data": [
        {
         "alignmentgroup": "True",
         "hovertemplate": "player_season=%{x}<br>goals_minus_xG=%{y}<br>Shot%=%{marker.color}<extra></extra>",
         "legendgroup": "",
         "marker": {
          "color": [
           0.1909,
           0.1778,
           0.2222,
           0.18,
           0.2344,
           0.1628,
           0.1923,
           0.1967,
           0.1458,
           0.25,
           0.2157,
           0.1772,
           0.2031,
           0.1892,
           0.1687
          ],
          "coloraxis": "coloraxis",
          "pattern": {
           "shape": ""
          }
         },
         "name": "",
         "offsetgroup": "",
         "orientation": "v",
         "showlegend": false,
         "textposition": "auto",
         "type": "bar",
         "x": [
          "Connor McDavid (2022)",
          "Nikita Kucherov (2018)",
          "Brayden Point (2022)",
          "Mikko Rantanen (2022)",
          "Evander Kane (2021)",
          "David Pastrnak (2018)",
          "Leon Draisaitl (2022)",
          "Jared McCann (2022)",
          "Nathan MacKinnon (2017)",
          "T.J. Oshie (2016)",
          "Travis Konecny (2022)",
          "Steven Stamkos (2017)",
          "Leon Draisaitl (2019)",
          "Elias Pettersson (2023)",
          "Sidney Crosby (2016)"
         ],
         "xaxis": "x",
         "y": [
          10.0627,
          9.6313,
          8.166,
          7.9901,
          7.9627,
          7.7203,
          7.6964,
          7.684,
          7.6483,
          7.5916,
          7.3774,
          7.2954,
          6.8811,
          6.6597,
          6.4122
         ],
         "yaxis": "y"
        }
       ],
       "layout": {
        "barmode": "relative",
        "coloraxis": {
         "colorbar": {
          "title": {
           "text": "Shot%"
          }
         },
         "colorscale": [
          [
           0,
           "#0d0887"
          ],
          [
           0.1111111111111111,
           "#46039f"
          ],
          [
           0.2222222222222222,
           "#7201a8"
          ],
          [
           0.3333333333333333,
           "#9c179e"
          ],
          [
           0.4444444444444444,
           "#bd3786"
          ],
          [
           0.5555555555555556,
           "#d8576b"
          ],
          [
           0.6666666666666666,
           "#ed7953"
          ],
          [
           0.7777777777777778,
           "#fb9f3a"
          ],
          [
           0.8888888888888888,
           "#fdca26"
          ],
          [
           1,
           "#f0f921"
          ]
         ]
        },
        "legend": {
         "tracegroupgap": 0
        },
        "margin": {
         "t": 60
        },
        "template": {
         "data": {
          "bar": [
           {
            "error_x": {
             "color": "#2a3f5f"
            },
            "error_y": {
             "color": "#2a3f5f"
            },
            "marker": {
             "line": {
              "color": "#E5ECF6",
              "width": 0.5
             },
             "pattern": {
              "fillmode": "overlay",
              "size": 10,
              "solidity": 0.2
             }
            },
            "type": "bar"
           }
          ],
          "barpolar": [
           {
            "marker": {
             "line": {
              "color": "#E5ECF6",
              "width": 0.5
             },
             "pattern": {
              "fillmode": "overlay",
              "size": 10,
              "solidity": 0.2
             }
            },
            "type": "barpolar"
           }
          ],
          "carpet": [
           {
            "aaxis": {
             "endlinecolor": "#2a3f5f",
             "gridcolor": "white",
             "linecolor": "white",
             "minorgridcolor": "white",
             "startlinecolor": "#2a3f5f"
            },
            "baxis": {
             "endlinecolor": "#2a3f5f",
             "gridcolor": "white",
             "linecolor": "white",
             "minorgridcolor": "white",
             "startlinecolor": "#2a3f5f"
            },
            "type": "carpet"
           }
          ],
          "choropleth": [
           {
            "colorbar": {
             "outlinewidth": 0,
             "ticks": ""
            },
            "type": "choropleth"
           }
          ],
          "contour": [
           {
            "colorbar": {
             "outlinewidth": 0,
             "ticks": ""
            },
            "colorscale": [
             [
              0,
              "#0d0887"
             ],
             [
              0.1111111111111111,
              "#46039f"
             ],
             [
              0.2222222222222222,
              "#7201a8"
             ],
             [
              0.3333333333333333,
              "#9c179e"
             ],
             [
              0.4444444444444444,
              "#bd3786"
             ],
             [
              0.5555555555555556,
              "#d8576b"
             ],
             [
              0.6666666666666666,
              "#ed7953"
             ],
             [
              0.7777777777777778,
              "#fb9f3a"
             ],
             [
              0.8888888888888888,
              "#fdca26"
             ],
             [
              1,
              "#f0f921"
             ]
            ],
            "type": "contour"
           }
          ],
          "contourcarpet": [
           {
            "colorbar": {
             "outlinewidth": 0,
             "ticks": ""
            },
            "type": "contourcarpet"
           }
          ],
          "heatmap": [
           {
            "colorbar": {
             "outlinewidth": 0,
             "ticks": ""
            },
            "colorscale": [
             [
              0,
              "#0d0887"
             ],
             [
              0.1111111111111111,
              "#46039f"
             ],
             [
              0.2222222222222222,
              "#7201a8"
             ],
             [
              0.3333333333333333,
              "#9c179e"
             ],
             [
              0.4444444444444444,
              "#bd3786"
             ],
             [
              0.5555555555555556,
              "#d8576b"
             ],
             [
              0.6666666666666666,
              "#ed7953"
             ],
             [
              0.7777777777777778,
              "#fb9f3a"
             ],
             [
              0.8888888888888888,
              "#fdca26"
             ],
             [
              1,
              "#f0f921"
             ]
            ],
            "type": "heatmap"
           }
          ],
          "heatmapgl": [
           {
            "colorbar": {
             "outlinewidth": 0,
             "ticks": ""
            },
            "colorscale": [
             [
              0,
              "#0d0887"
             ],
             [
              0.1111111111111111,
              "#46039f"
             ],
             [
              0.2222222222222222,
              "#7201a8"
             ],
             [
              0.3333333333333333,
              "#9c179e"
             ],
             [
              0.4444444444444444,
              "#bd3786"
             ],
             [
              0.5555555555555556,
              "#d8576b"
             ],
             [
              0.6666666666666666,
              "#ed7953"
             ],
             [
              0.7777777777777778,
              "#fb9f3a"
             ],
             [
              0.8888888888888888,
              "#fdca26"
             ],
             [
              1,
              "#f0f921"
             ]
            ],
            "type": "heatmapgl"
           }
          ],
          "histogram": [
           {
            "marker": {
             "pattern": {
              "fillmode": "overlay",
              "size": 10,
              "solidity": 0.2
             }
            },
            "type": "histogram"
           }
          ],
          "histogram2d": [
           {
            "colorbar": {
             "outlinewidth": 0,
             "ticks": ""
            },
            "colorscale": [
             [
              0,
              "#0d0887"
             ],
             [
              0.1111111111111111,
              "#46039f"
             ],
             [
              0.2222222222222222,
              "#7201a8"
             ],
             [
              0.3333333333333333,
              "#9c179e"
             ],
             [
              0.4444444444444444,
              "#bd3786"
             ],
             [
              0.5555555555555556,
              "#d8576b"
             ],
             [
              0.6666666666666666,
              "#ed7953"
             ],
             [
              0.7777777777777778,
              "#fb9f3a"
             ],
             [
              0.8888888888888888,
              "#fdca26"
             ],
             [
              1,
              "#f0f921"
             ]
            ],
            "type": "histogram2d"
           }
          ],
          "histogram2dcontour": [
           {
            "colorbar": {
             "outlinewidth": 0,
             "ticks": ""
            },
            "colorscale": [
             [
              0,
              "#0d0887"
             ],
             [
              0.1111111111111111,
              "#46039f"
             ],
             [
              0.2222222222222222,
              "#7201a8"
             ],
             [
              0.3333333333333333,
              "#9c179e"
             ],
             [
              0.4444444444444444,
              "#bd3786"
             ],
             [
              0.5555555555555556,
              "#d8576b"
             ],
             [
              0.6666666666666666,
              "#ed7953"
             ],
             [
              0.7777777777777778,
              "#fb9f3a"
             ],
             [
              0.8888888888888888,
              "#fdca26"
             ],
             [
              1,
              "#f0f921"
             ]
            ],
            "type": "histogram2dcontour"
           }
          ],
          "mesh3d": [
           {
            "colorbar": {
             "outlinewidth": 0,
             "ticks": ""
            },
            "type": "mesh3d"
           }
          ],
          "parcoords": [
           {
            "line": {
             "colorbar": {
              "outlinewidth": 0,
              "ticks": ""
             }
            },
            "type": "parcoords"
           }
          ],
          "pie": [
           {
            "automargin": true,
            "type": "pie"
           }
          ],
          "scatter": [
           {
            "fillpattern": {
             "fillmode": "overlay",
             "size": 10,
             "solidity": 0.2
            },
            "type": "scatter"
           }
          ],
          "scatter3d": [
           {
            "line": {
             "colorbar": {
              "outlinewidth": 0,
              "ticks": ""
             }
            },
            "marker": {
             "colorbar": {
              "outlinewidth": 0,
              "ticks": ""
             }
            },
            "type": "scatter3d"
           }
          ],
          "scattercarpet": [
           {
            "marker": {
             "colorbar": {
              "outlinewidth": 0,
              "ticks": ""
             }
            },
            "type": "scattercarpet"
           }
          ],
          "scattergeo": [
           {
            "marker": {
             "colorbar": {
              "outlinewidth": 0,
              "ticks": ""
             }
            },
            "type": "scattergeo"
           }
          ],
          "scattergl": [
           {
            "marker": {
             "colorbar": {
              "outlinewidth": 0,
              "ticks": ""
             }
            },
            "type": "scattergl"
           }
          ],
          "scattermapbox": [
           {
            "marker": {
             "colorbar": {
              "outlinewidth": 0,
              "ticks": ""
             }
            },
            "type": "scattermapbox"
           }
          ],
          "scatterpolar": [
           {
            "marker": {
             "colorbar": {
              "outlinewidth": 0,
              "ticks": ""
             }
            },
            "type": "scatterpolar"
           }
          ],
          "scatterpolargl": [
           {
            "marker": {
             "colorbar": {
              "outlinewidth": 0,
              "ticks": ""
             }
            },
            "type": "scatterpolargl"
           }
          ],
          "scatterternary": [
           {
            "marker": {
             "colorbar": {
              "outlinewidth": 0,
              "ticks": ""
             }
            },
            "type": "scatterternary"
           }
          ],
          "surface": [
           {
            "colorbar": {
             "outlinewidth": 0,
             "ticks": ""
            },
            "colorscale": [
             [
              0,
              "#0d0887"
             ],
             [
              0.1111111111111111,
              "#46039f"
             ],
             [
              0.2222222222222222,
              "#7201a8"
             ],
             [
              0.3333333333333333,
              "#9c179e"
             ],
             [
              0.4444444444444444,
              "#bd3786"
             ],
             [
              0.5555555555555556,
              "#d8576b"
             ],
             [
              0.6666666666666666,
              "#ed7953"
             ],
             [
              0.7777777777777778,
              "#fb9f3a"
             ],
             [
              0.8888888888888888,
              "#fdca26"
             ],
             [
              1,
              "#f0f921"
             ]
            ],
            "type": "surface"
           }
          ],
          "table": [
           {
            "cells": {
             "fill": {
              "color": "#EBF0F8"
             },
             "line": {
              "color": "white"
             }
            },
            "header": {
             "fill": {
              "color": "#C8D4E3"
             },
             "line": {
              "color": "white"
             }
            },
            "type": "table"
           }
          ]
         },
         "layout": {
          "annotationdefaults": {
           "arrowcolor": "#2a3f5f",
           "arrowhead": 0,
           "arrowwidth": 1
          },
          "autotypenumbers": "strict",
          "coloraxis": {
           "colorbar": {
            "outlinewidth": 0,
            "ticks": ""
           }
          },
          "colorscale": {
           "diverging": [
            [
             0,
             "#8e0152"
            ],
            [
             0.1,
             "#c51b7d"
            ],
            [
             0.2,
             "#de77ae"
            ],
            [
             0.3,
             "#f1b6da"
            ],
            [
             0.4,
             "#fde0ef"
            ],
            [
             0.5,
             "#f7f7f7"
            ],
            [
             0.6,
             "#e6f5d0"
            ],
            [
             0.7,
             "#b8e186"
            ],
            [
             0.8,
             "#7fbc41"
            ],
            [
             0.9,
             "#4d9221"
            ],
            [
             1,
             "#276419"
            ]
           ],
           "sequential": [
            [
             0,
             "#0d0887"
            ],
            [
             0.1111111111111111,
             "#46039f"
            ],
            [
             0.2222222222222222,
             "#7201a8"
            ],
            [
             0.3333333333333333,
             "#9c179e"
            ],
            [
             0.4444444444444444,
             "#bd3786"
            ],
            [
             0.5555555555555556,
             "#d8576b"
            ],
            [
             0.6666666666666666,
             "#ed7953"
            ],
            [
             0.7777777777777778,
             "#fb9f3a"
            ],
            [
             0.8888888888888888,
             "#fdca26"
            ],
            [
             1,
             "#f0f921"
            ]
           ],
           "sequentialminus": [
            [
             0,
             "#0d0887"
            ],
            [
             0.1111111111111111,
             "#46039f"
            ],
            [
             0.2222222222222222,
             "#7201a8"
            ],
            [
             0.3333333333333333,
             "#9c179e"
            ],
            [
             0.4444444444444444,
             "#bd3786"
            ],
            [
             0.5555555555555556,
             "#d8576b"
            ],
            [
             0.6666666666666666,
             "#ed7953"
            ],
            [
             0.7777777777777778,
             "#fb9f3a"
            ],
            [
             0.8888888888888888,
             "#fdca26"
            ],
            [
             1,
             "#f0f921"
            ]
           ]
          },
          "colorway": [
           "#636efa",
           "#EF553B",
           "#00cc96",
           "#ab63fa",
           "#FFA15A",
           "#19d3f3",
           "#FF6692",
           "#B6E880",
           "#FF97FF",
           "#FECB52"
          ],
          "font": {
           "color": "#2a3f5f"
          },
          "geo": {
           "bgcolor": "white",
           "lakecolor": "white",
           "landcolor": "#E5ECF6",
           "showlakes": true,
           "showland": true,
           "subunitcolor": "white"
          },
          "hoverlabel": {
           "align": "left"
          },
          "hovermode": "closest",
          "mapbox": {
           "style": "light"
          },
          "paper_bgcolor": "white",
          "plot_bgcolor": "#E5ECF6",
          "polar": {
           "angularaxis": {
            "gridcolor": "white",
            "linecolor": "white",
            "ticks": ""
           },
           "bgcolor": "#E5ECF6",
           "radialaxis": {
            "gridcolor": "white",
            "linecolor": "white",
            "ticks": ""
           }
          },
          "scene": {
           "xaxis": {
            "backgroundcolor": "#E5ECF6",
            "gridcolor": "white",
            "gridwidth": 2,
            "linecolor": "white",
            "showbackground": true,
            "ticks": "",
            "zerolinecolor": "white"
           },
           "yaxis": {
            "backgroundcolor": "#E5ECF6",
            "gridcolor": "white",
            "gridwidth": 2,
            "linecolor": "white",
            "showbackground": true,
            "ticks": "",
            "zerolinecolor": "white"
           },
           "zaxis": {
            "backgroundcolor": "#E5ECF6",
            "gridcolor": "white",
            "gridwidth": 2,
            "linecolor": "white",
            "showbackground": true,
            "ticks": "",
            "zerolinecolor": "white"
           }
          },
          "shapedefaults": {
           "line": {
            "color": "#2a3f5f"
           }
          },
          "ternary": {
           "aaxis": {
            "gridcolor": "white",
            "linecolor": "white",
            "ticks": ""
           },
           "baxis": {
            "gridcolor": "white",
            "linecolor": "white",
            "ticks": ""
           },
           "bgcolor": "#E5ECF6",
           "caxis": {
            "gridcolor": "white",
            "linecolor": "white",
            "ticks": ""
           }
          },
          "title": {
           "x": 0.05
          },
          "xaxis": {
           "automargin": true,
           "gridcolor": "white",
           "linecolor": "white",
           "ticks": "",
           "title": {
            "standoff": 15
           },
           "zerolinecolor": "white",
           "zerolinewidth": 2
          },
          "yaxis": {
           "automargin": true,
           "gridcolor": "white",
           "linecolor": "white",
           "ticks": "",
           "title": {
            "standoff": 15
           },
           "zerolinecolor": "white",
           "zerolinewidth": 2
          }
         }
        },
        "xaxis": {
         "anchor": "y",
         "domain": [
          0,
          1
         ],
         "title": {
          "text": "player_season"
         }
        },
        "yaxis": {
         "anchor": "x",
         "domain": [
          0,
          1
         ],
         "title": {
          "text": "goals_minus_xG"
         }
        }
       }
      },
      "text/html": [
       "<div>                            <div id=\"2aa6c766-7e6d-47d1-99e6-4f3e05cfa4ec\" class=\"plotly-graph-div\" style=\"height:525px; width:100%;\"></div>            <script type=\"text/javascript\">                require([\"plotly\"], function(Plotly) {                    window.PLOTLYENV=window.PLOTLYENV || {};                                    if (document.getElementById(\"2aa6c766-7e6d-47d1-99e6-4f3e05cfa4ec\")) {                    Plotly.newPlot(                        \"2aa6c766-7e6d-47d1-99e6-4f3e05cfa4ec\",                        [{\"alignmentgroup\":\"True\",\"hovertemplate\":\"player_season=%{x}\\u003cbr\\u003egoals_minus_xG=%{y}\\u003cbr\\u003eShot%=%{marker.color}\\u003cextra\\u003e\\u003c\\u002fextra\\u003e\",\"legendgroup\":\"\",\"marker\":{\"color\":[0.1909,0.1778,0.2222,0.18,0.2344,0.1628,0.1923,0.1967,0.1458,0.25,0.2157,0.1772,0.2031,0.1892,0.1687],\"coloraxis\":\"coloraxis\",\"pattern\":{\"shape\":\"\"}},\"name\":\"\",\"offsetgroup\":\"\",\"orientation\":\"v\",\"showlegend\":false,\"textposition\":\"auto\",\"x\":[\"Connor McDavid (2022)\",\"Nikita Kucherov (2018)\",\"Brayden Point (2022)\",\"Mikko Rantanen (2022)\",\"Evander Kane (2021)\",\"David Pastrnak (2018)\",\"Leon Draisaitl (2022)\",\"Jared McCann (2022)\",\"Nathan MacKinnon (2017)\",\"T.J. Oshie (2016)\",\"Travis Konecny (2022)\",\"Steven Stamkos (2017)\",\"Leon Draisaitl (2019)\",\"Elias Pettersson (2023)\",\"Sidney Crosby (2016)\"],\"xaxis\":\"x\",\"y\":[10.0627,9.6313,8.166,7.9901,7.9627,7.7203,7.6964,7.684,7.6483,7.5916,7.3774,7.2954,6.8811,6.6597,6.4122],\"yaxis\":\"y\",\"type\":\"bar\"}],                        {\"template\":{\"data\":{\"histogram2dcontour\":[{\"type\":\"histogram2dcontour\",\"colorbar\":{\"outlinewidth\":0,\"ticks\":\"\"},\"colorscale\":[[0.0,\"#0d0887\"],[0.1111111111111111,\"#46039f\"],[0.2222222222222222,\"#7201a8\"],[0.3333333333333333,\"#9c179e\"],[0.4444444444444444,\"#bd3786\"],[0.5555555555555556,\"#d8576b\"],[0.6666666666666666,\"#ed7953\"],[0.7777777777777778,\"#fb9f3a\"],[0.8888888888888888,\"#fdca26\"],[1.0,\"#f0f921\"]]}],\"choropleth\":[{\"type\":\"choropleth\",\"colorbar\":{\"outlinewidth\":0,\"ticks\":\"\"}}],\"histogram2d\":[{\"type\":\"histogram2d\",\"colorbar\":{\"outlinewidth\":0,\"ticks\":\"\"},\"colorscale\":[[0.0,\"#0d0887\"],[0.1111111111111111,\"#46039f\"],[0.2222222222222222,\"#7201a8\"],[0.3333333333333333,\"#9c179e\"],[0.4444444444444444,\"#bd3786\"],[0.5555555555555556,\"#d8576b\"],[0.6666666666666666,\"#ed7953\"],[0.7777777777777778,\"#fb9f3a\"],[0.8888888888888888,\"#fdca26\"],[1.0,\"#f0f921\"]]}],\"heatmap\":[{\"type\":\"heatmap\",\"colorbar\":{\"outlinewidth\":0,\"ticks\":\"\"},\"colorscale\":[[0.0,\"#0d0887\"],[0.1111111111111111,\"#46039f\"],[0.2222222222222222,\"#7201a8\"],[0.3333333333333333,\"#9c179e\"],[0.4444444444444444,\"#bd3786\"],[0.5555555555555556,\"#d8576b\"],[0.6666666666666666,\"#ed7953\"],[0.7777777777777778,\"#fb9f3a\"],[0.8888888888888888,\"#fdca26\"],[1.0,\"#f0f921\"]]}],\"heatmapgl\":[{\"type\":\"heatmapgl\",\"colorbar\":{\"outlinewidth\":0,\"ticks\":\"\"},\"colorscale\":[[0.0,\"#0d0887\"],[0.1111111111111111,\"#46039f\"],[0.2222222222222222,\"#7201a8\"],[0.3333333333333333,\"#9c179e\"],[0.4444444444444444,\"#bd3786\"],[0.5555555555555556,\"#d8576b\"],[0.6666666666666666,\"#ed7953\"],[0.7777777777777778,\"#fb9f3a\"],[0.8888888888888888,\"#fdca26\"],[1.0,\"#f0f921\"]]}],\"contourcarpet\":[{\"type\":\"contourcarpet\",\"colorbar\":{\"outlinewidth\":0,\"ticks\":\"\"}}],\"contour\":[{\"type\":\"contour\",\"colorbar\":{\"outlinewidth\":0,\"ticks\":\"\"},\"colorscale\":[[0.0,\"#0d0887\"],[0.1111111111111111,\"#46039f\"],[0.2222222222222222,\"#7201a8\"],[0.3333333333333333,\"#9c179e\"],[0.4444444444444444,\"#bd3786\"],[0.5555555555555556,\"#d8576b\"],[0.6666666666666666,\"#ed7953\"],[0.7777777777777778,\"#fb9f3a\"],[0.8888888888888888,\"#fdca26\"],[1.0,\"#f0f921\"]]}],\"surface\":[{\"type\":\"surface\",\"colorbar\":{\"outlinewidth\":0,\"ticks\":\"\"},\"colorscale\":[[0.0,\"#0d0887\"],[0.1111111111111111,\"#46039f\"],[0.2222222222222222,\"#7201a8\"],[0.3333333333333333,\"#9c179e\"],[0.4444444444444444,\"#bd3786\"],[0.5555555555555556,\"#d8576b\"],[0.6666666666666666,\"#ed7953\"],[0.7777777777777778,\"#fb9f3a\"],[0.8888888888888888,\"#fdca26\"],[1.0,\"#f0f921\"]]}],\"mesh3d\":[{\"type\":\"mesh3d\",\"colorbar\":{\"outlinewidth\":0,\"ticks\":\"\"}}],\"scatter\":[{\"fillpattern\":{\"fillmode\":\"overlay\",\"size\":10,\"solidity\":0.2},\"type\":\"scatter\"}],\"parcoords\":[{\"type\":\"parcoords\",\"line\":{\"colorbar\":{\"outlinewidth\":0,\"ticks\":\"\"}}}],\"scatterpolargl\":[{\"type\":\"scatterpolargl\",\"marker\":{\"colorbar\":{\"outlinewidth\":0,\"ticks\":\"\"}}}],\"bar\":[{\"error_x\":{\"color\":\"#2a3f5f\"},\"error_y\":{\"color\":\"#2a3f5f\"},\"marker\":{\"line\":{\"color\":\"#E5ECF6\",\"width\":0.5},\"pattern\":{\"fillmode\":\"overlay\",\"size\":10,\"solidity\":0.2}},\"type\":\"bar\"}],\"scattergeo\":[{\"type\":\"scattergeo\",\"marker\":{\"colorbar\":{\"outlinewidth\":0,\"ticks\":\"\"}}}],\"scatterpolar\":[{\"type\":\"scatterpolar\",\"marker\":{\"colorbar\":{\"outlinewidth\":0,\"ticks\":\"\"}}}],\"histogram\":[{\"marker\":{\"pattern\":{\"fillmode\":\"overlay\",\"size\":10,\"solidity\":0.2}},\"type\":\"histogram\"}],\"scattergl\":[{\"type\":\"scattergl\",\"marker\":{\"colorbar\":{\"outlinewidth\":0,\"ticks\":\"\"}}}],\"scatter3d\":[{\"type\":\"scatter3d\",\"line\":{\"colorbar\":{\"outlinewidth\":0,\"ticks\":\"\"}},\"marker\":{\"colorbar\":{\"outlinewidth\":0,\"ticks\":\"\"}}}],\"scattermapbox\":[{\"type\":\"scattermapbox\",\"marker\":{\"colorbar\":{\"outlinewidth\":0,\"ticks\":\"\"}}}],\"scatterternary\":[{\"type\":\"scatterternary\",\"marker\":{\"colorbar\":{\"outlinewidth\":0,\"ticks\":\"\"}}}],\"scattercarpet\":[{\"type\":\"scattercarpet\",\"marker\":{\"colorbar\":{\"outlinewidth\":0,\"ticks\":\"\"}}}],\"carpet\":[{\"aaxis\":{\"endlinecolor\":\"#2a3f5f\",\"gridcolor\":\"white\",\"linecolor\":\"white\",\"minorgridcolor\":\"white\",\"startlinecolor\":\"#2a3f5f\"},\"baxis\":{\"endlinecolor\":\"#2a3f5f\",\"gridcolor\":\"white\",\"linecolor\":\"white\",\"minorgridcolor\":\"white\",\"startlinecolor\":\"#2a3f5f\"},\"type\":\"carpet\"}],\"table\":[{\"cells\":{\"fill\":{\"color\":\"#EBF0F8\"},\"line\":{\"color\":\"white\"}},\"header\":{\"fill\":{\"color\":\"#C8D4E3\"},\"line\":{\"color\":\"white\"}},\"type\":\"table\"}],\"barpolar\":[{\"marker\":{\"line\":{\"color\":\"#E5ECF6\",\"width\":0.5},\"pattern\":{\"fillmode\":\"overlay\",\"size\":10,\"solidity\":0.2}},\"type\":\"barpolar\"}],\"pie\":[{\"automargin\":true,\"type\":\"pie\"}]},\"layout\":{\"autotypenumbers\":\"strict\",\"colorway\":[\"#636efa\",\"#EF553B\",\"#00cc96\",\"#ab63fa\",\"#FFA15A\",\"#19d3f3\",\"#FF6692\",\"#B6E880\",\"#FF97FF\",\"#FECB52\"],\"font\":{\"color\":\"#2a3f5f\"},\"hovermode\":\"closest\",\"hoverlabel\":{\"align\":\"left\"},\"paper_bgcolor\":\"white\",\"plot_bgcolor\":\"#E5ECF6\",\"polar\":{\"bgcolor\":\"#E5ECF6\",\"angularaxis\":{\"gridcolor\":\"white\",\"linecolor\":\"white\",\"ticks\":\"\"},\"radialaxis\":{\"gridcolor\":\"white\",\"linecolor\":\"white\",\"ticks\":\"\"}},\"ternary\":{\"bgcolor\":\"#E5ECF6\",\"aaxis\":{\"gridcolor\":\"white\",\"linecolor\":\"white\",\"ticks\":\"\"},\"baxis\":{\"gridcolor\":\"white\",\"linecolor\":\"white\",\"ticks\":\"\"},\"caxis\":{\"gridcolor\":\"white\",\"linecolor\":\"white\",\"ticks\":\"\"}},\"coloraxis\":{\"colorbar\":{\"outlinewidth\":0,\"ticks\":\"\"}},\"colorscale\":{\"sequential\":[[0.0,\"#0d0887\"],[0.1111111111111111,\"#46039f\"],[0.2222222222222222,\"#7201a8\"],[0.3333333333333333,\"#9c179e\"],[0.4444444444444444,\"#bd3786\"],[0.5555555555555556,\"#d8576b\"],[0.6666666666666666,\"#ed7953\"],[0.7777777777777778,\"#fb9f3a\"],[0.8888888888888888,\"#fdca26\"],[1.0,\"#f0f921\"]],\"sequentialminus\":[[0.0,\"#0d0887\"],[0.1111111111111111,\"#46039f\"],[0.2222222222222222,\"#7201a8\"],[0.3333333333333333,\"#9c179e\"],[0.4444444444444444,\"#bd3786\"],[0.5555555555555556,\"#d8576b\"],[0.6666666666666666,\"#ed7953\"],[0.7777777777777778,\"#fb9f3a\"],[0.8888888888888888,\"#fdca26\"],[1.0,\"#f0f921\"]],\"diverging\":[[0,\"#8e0152\"],[0.1,\"#c51b7d\"],[0.2,\"#de77ae\"],[0.3,\"#f1b6da\"],[0.4,\"#fde0ef\"],[0.5,\"#f7f7f7\"],[0.6,\"#e6f5d0\"],[0.7,\"#b8e186\"],[0.8,\"#7fbc41\"],[0.9,\"#4d9221\"],[1,\"#276419\"]]},\"xaxis\":{\"gridcolor\":\"white\",\"linecolor\":\"white\",\"ticks\":\"\",\"title\":{\"standoff\":15},\"zerolinecolor\":\"white\",\"automargin\":true,\"zerolinewidth\":2},\"yaxis\":{\"gridcolor\":\"white\",\"linecolor\":\"white\",\"ticks\":\"\",\"title\":{\"standoff\":15},\"zerolinecolor\":\"white\",\"automargin\":true,\"zerolinewidth\":2},\"scene\":{\"xaxis\":{\"backgroundcolor\":\"#E5ECF6\",\"gridcolor\":\"white\",\"linecolor\":\"white\",\"showbackground\":true,\"ticks\":\"\",\"zerolinecolor\":\"white\",\"gridwidth\":2},\"yaxis\":{\"backgroundcolor\":\"#E5ECF6\",\"gridcolor\":\"white\",\"linecolor\":\"white\",\"showbackground\":true,\"ticks\":\"\",\"zerolinecolor\":\"white\",\"gridwidth\":2},\"zaxis\":{\"backgroundcolor\":\"#E5ECF6\",\"gridcolor\":\"white\",\"linecolor\":\"white\",\"showbackground\":true,\"ticks\":\"\",\"zerolinecolor\":\"white\",\"gridwidth\":2}},\"shapedefaults\":{\"line\":{\"color\":\"#2a3f5f\"}},\"annotationdefaults\":{\"arrowcolor\":\"#2a3f5f\",\"arrowhead\":0,\"arrowwidth\":1},\"geo\":{\"bgcolor\":\"white\",\"landcolor\":\"#E5ECF6\",\"subunitcolor\":\"white\",\"showland\":true,\"showlakes\":true,\"lakecolor\":\"white\"},\"title\":{\"x\":0.05},\"mapbox\":{\"style\":\"light\"}}},\"xaxis\":{\"anchor\":\"y\",\"domain\":[0.0,1.0],\"title\":{\"text\":\"player_season\"}},\"yaxis\":{\"anchor\":\"x\",\"domain\":[0.0,1.0],\"title\":{\"text\":\"goals_minus_xG\"}},\"coloraxis\":{\"colorbar\":{\"title\":{\"text\":\"Shot%\"}},\"colorscale\":[[0.0,\"#0d0887\"],[0.1111111111111111,\"#46039f\"],[0.2222222222222222,\"#7201a8\"],[0.3333333333333333,\"#9c179e\"],[0.4444444444444444,\"#bd3786\"],[0.5555555555555556,\"#d8576b\"],[0.6666666666666666,\"#ed7953\"],[0.7777777777777778,\"#fb9f3a\"],[0.8888888888888888,\"#fdca26\"],[1.0,\"#f0f921\"]]},\"legend\":{\"tracegroupgap\":0},\"margin\":{\"t\":60},\"barmode\":\"relative\"},                        {\"responsive\": true}                    ).then(function(){\n",
       "                            \n",
       "var gd = document.getElementById('2aa6c766-7e6d-47d1-99e6-4f3e05cfa4ec');\n",
       "var x = new MutationObserver(function (mutations, observer) {{\n",
       "        var display = window.getComputedStyle(gd).display;\n",
       "        if (!display || display === 'none') {{\n",
       "            console.log([gd, 'removed!']);\n",
       "            Plotly.purge(gd);\n",
       "            observer.disconnect();\n",
       "        }}\n",
       "}});\n",
       "\n",
       "// Listen for the removal of the full notebook cells\n",
       "var notebookContainer = gd.closest('#notebook-container');\n",
       "if (notebookContainer) {{\n",
       "    x.observe(notebookContainer, {childList: true});\n",
       "}}\n",
       "\n",
       "// Listen for the clearing of the current output cell\n",
       "var outputEl = gd.closest('.output');\n",
       "if (outputEl) {{\n",
       "    x.observe(outputEl, {childList: true});\n",
       "}}\n",
       "\n",
       "                        })                };                });            </script>        </div>"
      ]
     },
     "metadata": {},
     "output_type": "display_data"
    }
   ],
   "source": [
    "top_15[\"player_season\"] = top_15[\"shooterName\"] + \" (\" + top_15[\"season\"].astype(str) + \")\"\n",
    "top_15[\"xShot%\"] = top_15.total_xG / top_15.total_shots\n",
    "top_15 = top_15.round(4)\n",
    "fig = px.bar(top_15, x='player_season', y='goals_minus_xG', color=\"Shot%\")\n",
    "fig.show()"
   ]
  },
  {
   "cell_type": "markdown",
   "id": "8b980c40",
   "metadata": {},
   "source": [
    "### Shot Map Visualization\n",
    "\n",
    "To better understand where shots are being taken and how dangerous they are, I created a shot map based on the shot location. The original dataset has the X and Y coordinate of every shot recorded, adjusted to the arena it was in.\n",
    "\n",
    "I used https://thecommutesports.com/2022/08/06/creating-nhl-shot-maps-with-python/ as a reference for creating some of this code. \n",
    "\n",
    "Plotting every single shot as a scatterplot quickly became too cluttered due to the size of the dataset. To address this, I explored a hexbin aggregation.\n",
    "\n",
    "Instead of plotting individual shots, the rink is divided into small hexagonal bins. Within each bin, the average expected goals (xG) value of all shots is calculated. This allows for a smoother view of which areas of the ice produce higher-quality chances, while filtering out random noise from individual low-probability shots.\n",
    "\n",
    "Additionally, I limited the scope of the shot maps by:\n",
    "- Focusing only on the offensive half of the rink.  \n",
    "- Filtering out empty-net shots, which are not modeled in xG.  \n",
    "\n",
    "By using these methods, the visualization provides a clearer and more interpretable picture of where dangerous chances are generated. Instead of a noisy cloud of points, the shot maps highlight meaningful patterns in scoring opportunities."
   ]
  },
  {
   "cell_type": "code",
   "execution_count": 200,
   "id": "35069de9",
   "metadata": {},
   "outputs": [
    {
     "data": {
      "text/plain": [
       "0    200099\n",
       "1      1202\n",
       "Name: shotOnEmptyNet, dtype: int64"
      ]
     },
     "execution_count": 200,
     "metadata": {},
     "output_type": "execute_result"
    }
   ],
   "source": [
    "df_test['shotOnEmptyNet'].value_counts()"
   ]
  },
  {
   "cell_type": "code",
   "execution_count": 174,
   "id": "2fb8d773",
   "metadata": {},
   "outputs": [
    {
     "name": "stdout",
     "output_type": "stream",
     "text": [
      "0    200099\n",
      "Name: shotOnEmptyNet, dtype: int64\n"
     ]
    }
   ],
   "source": [
    "df_no_empty_net = df_test[df_test['shotOnEmptyNet'] == 0]\n",
    "print(df_no_empty_net['shotOnEmptyNet'].value_counts())"
   ]
  },
  {
   "cell_type": "code",
   "execution_count": 189,
   "id": "18cb2666",
   "metadata": {},
   "outputs": [
    {
     "data": {
      "image/png": "[encoded data removed]",
      "text/plain": [
       "<Figure size 576x360 with 2 Axes>"
      ]
     },
     "metadata": {
      "needs_background": "light"
     },
     "output_type": "display_data"
    }
   ],
   "source": [
    "df_plot = df_no_empty_net.copy()\n",
    "\n",
    "if \"arenaAdjustedXCordABS\" in df_plot.columns:\n",
    "    df_plot[\"x_abs\"] = pd.to_numeric(df_plot[\"arenaAdjustedXCordABS\"], errors=\"coerce\")\n",
    "elif \"arenaAdjustedXCord\" in df_plot.columns:\n",
    "    df_plot[\"x_abs\"] = pd.to_numeric(df_plot[\"arenaAdjustedXCord\"], errors=\"coerce\").abs()\n",
    "else:\n",
    "    raise KeyError(\"Need arenaAdjustedXCordABS or arenaAdjustedXCord in the dataframe.\")\n",
    "\n",
    "y_col = \"arenaAdjustedYCord\" if \"arenaAdjustedYCord\" in df_plot.columns else \\\n",
    "        (\"arenaAdjustedYCordABS\" if \"arenaAdjustedYCordABS\" in df_plot.columns else None)\n",
    "if y_col is None:\n",
    "    raise KeyError(\"Need arenaAdjustedYCord (or arenaAdjustedYCordAbs) in the dataframe.\")\n",
    "df_plot[y_col] = pd.to_numeric(df_plot[y_col], errors=\"coerce\")\n",
    "\n",
    "df_plot = df_plot.query(\"0 <= x_abs <= 100\")\n",
    "df_plot = df_plot[(df_plot[y_col] >= -42.5) & (df_plot[y_col] <= 42.5)]\n",
    "df_plot = df_plot.dropna(subset=[\"x_abs\", y_col, \"xG\"])\n",
    "\n",
    "def draw_half_rink(ax):\n",
    "    ax.set_xlim(0, 100); ax.set_ylim(-42.5, 42.5)\n",
    "    ax.add_patch(plt.Rectangle((0, -42.5), 100, 85, fill=False, linewidth=2))\n",
    "    ax.axvline(89, color=\"black\", linewidth=1, alpha=0.6)\n",
    "    ax.add_patch(plt.Circle((89, 0), 6, fill=False, linewidth=1))\n",
    "    ax.set_aspect(\"equal\"); ax.set_xticks([]); ax.set_yticks([]); ax.set_frame_on(False)\n",
    "\n",
    "fig, ax = plt.subplots(figsize=(8,5))\n",
    "draw_half_rink(ax)\n",
    "\n",
    "hb = ax.hexbin(\n",
    "    df_plot[\"x_abs\"], df_plot[y_col],\n",
    "    C=df_plot[\"xG\"], reduce_C_function=np.mean,\n",
    "    gridsize=40, extent=(0,100,-42.5,42.5),\n",
    "    mincnt=10, alpha=0.95\n",
    ")\n",
    "cb = plt.colorbar(hb, ax=ax); cb.set_label(\"Average xG\")\n",
    "\n",
    "ax.set_title(\"Shot Map — Average xG (One Offensive Half, Empty Nets Removed)\")\n",
    "plt.show()"
   ]
  },
  {
   "cell_type": "markdown",
   "id": "3f98a033",
   "metadata": {},
   "source": [
    "The bright yellow cluster right in front of the net (aka the “slot”) suggests these shots have very high xG, meaning they are much more likely to result in goals. Areas near the blue line or far corners show very low xG values."
   ]
  },
  {
   "cell_type": "markdown",
   "id": "4bf08260",
   "metadata": {},
   "source": [
    "## Conclusion & Results\n",
    "\n",
    "In this project, I developed an expected goals (xG) model to estimate the probability that a given shot results in a goal. The analysis covered the full pipeline from data preparation to model evaluation and player-level insights.\n",
    "\n",
    "### Model Development\n",
    "- Baseline Model – Logistic Regression: I first trained a logistic regression model, which served as a transparent baseline. Logistic regression provided interpretable coefficients but had limitations in capturing complex feature interactions.  \n",
    "- Advanced Model – XGBoost: I then trained an XGBoost classifier, which is well-suited for structured sports data. This model improved predictive accuracy by capturing nonlinear relationships and feature interactions that logistic regression could not.  \n",
    "### Model Evaluation\n",
    "- Both models were evaluated on held-out test data using metrics such as log loss, Brier score, and ROC AUC.  \n",
    "- XGBoost consistently outperformed logistic regression, showing better calibration of predicted probabilities and stronger discriminative ability between goals and non-goals.  \n",
    "- The calibrated probabilities from the best-performing model were used as our final xG values.\n",
    "\n",
    "### Results & Insights\n",
    "- Player Evaluation: By aggregating xG and goals at the player-season level, I measured finishing ability through `goals_minus_xG`. This highlights which players consistently overperform (elite finishers) or underperform (struggling finishers) relative to expectation.  \n",
    "- Seasonal Analysis: Breaking down results by season revealed standout years where players significantly exceeded their expected scoring output.  \n",
    "- Reliability Filters: To reduce noise, I restricted results to players with at least 100 shots in their career, making sure there would be less outliers.\n",
    "- Key Findings: \n",
    "  - Elite scorers such as Connor McDavid, Leon Draisaitl, and Auston Matthews frequently outperformed xG, reflecting their high finishing talent and shooting percentage.  \n",
    "  - High-volume shooters like Alex Ovechkin generated the largest xG totals, showing his ability to get shots through from any spot on the ice.  \n",
    "  - The xG model provides a more nuanced measure of performance than raw goals, distinguishing sustainable scoring from hot streaks or luck."
   ]
  }
 ],
 "metadata": {
  "kernelspec": {
   "display_name": "Python 3 (ipykernel)",
   "language": "python",
   "name": "python3"
  },
  "language_info": {
   "codemirror_mode": {
    "name": "ipython",
    "version": 3
   },
   "file_extension": ".py",
   "mimetype": "text/x-python",
   "name": "python",
   "nbconvert_exporter": "python",
   "pygments_lexer": "ipython3",
   "version": "3.9.12"
  }
 },
 "nbformat": 4,
 "nbformat_minor": 5
}
